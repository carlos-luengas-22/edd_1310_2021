{
  "nbformat": 4,
  "nbformat_minor": 0,
  "metadata": {
    "colab": {
      "name": "12denoviembre_1310.ipynb",
      "provenance": [],
      "authorship_tag": "ABX9TyPa7TA+wmMMTGERCbQv3gL5",
      "include_colab_link": true
    },
    "kernelspec": {
      "name": "python3",
      "display_name": "Python 3"
    }
  },
  "cells": [
    {
      "cell_type": "markdown",
      "metadata": {
        "id": "view-in-github",
        "colab_type": "text"
      },
      "source": [
        "<a href=\"https://colab.research.google.com/github/carlos-luengas-22/edd_1310_2021/blob/master/12denoviembre_1310.ipynb\" target=\"_parent\"><img src=\"https://colab.research.google.com/assets/colab-badge.svg\" alt=\"Open In Colab\"/></a>"
      ]
    },
    {
      "cell_type": "code",
      "metadata": {
        "id": "i93GHmmLPya_",
        "outputId": "740f2540-ab6d-4265-be73-1b27e7e6c6f0",
        "colab": {
          "base_uri": "https://localhost:8080/"
        }
      },
      "source": [
        "class Nodo:\n",
        "    def __init__( self , dato ):\n",
        "        self.dato = dato\n",
        "        self.siguiente = None\n",
        "\n",
        "\n",
        "# ejemplo 1\n",
        "a = Nodo( 12 )\n",
        "print( a.dato )\n",
        "print( a.siguiente )\n",
        "\n",
        "# ejemplo 2\n",
        "a.siguiente = Nodo( 20 )\n",
        "\n",
        "#ejemplo 3\n",
        "\n",
        "a.siguiente.siguiente=Nodo(30)\n",
        "\n",
        "#ejemplo 4\n",
        "a.siguiente.siguiente.siguiente=Nodo(40)\n",
        "\n",
        "#ejemplo 5\n",
        "a.siguiente.siguiente.siguiente.siguiente=Nodo(50)\n",
        "\n",
        "#Eliminando nodo 30 ejemplo 6\n",
        "\n",
        "a.siguiente.siguiente=a.siguiente.siguiente.siguiente\n",
        "\n",
        "# ejemplo 7\n",
        "a.siguiente.siguiente.dato = 45\n",
        "\n",
        "#EJEMPLO 8 insertar dato\n",
        "\n",
        "\n",
        "\n",
        "curr_node = a\n",
        "print(curr_node.dato , \"-->\" , end=\"\")\n",
        "while( curr_node.siguiente != None ):\n",
        "    curr_node = curr_node.siguiente\n",
        "    print(curr_node.dato, \"-->\" , end=\"\")\n",
        "print(\"\")\n"
      ],
      "execution_count": 2,
      "outputs": [
        {
          "output_type": "stream",
          "text": [
            "12\n",
            "None\n",
            "12 -->20 -->45 -->50 -->\n"
          ],
          "name": "stdout"
        }
      ]
    }
  ]
}