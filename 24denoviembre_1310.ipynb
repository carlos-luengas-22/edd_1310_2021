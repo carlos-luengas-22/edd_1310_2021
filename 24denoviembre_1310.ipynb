{
  "nbformat": 4,
  "nbformat_minor": 0,
  "metadata": {
    "colab": {
      "name": "24denoviembre_1310.ipynb",
      "provenance": [],
      "authorship_tag": "ABX9TyN43lKiVGfzhlxXlLbhr1CM",
      "include_colab_link": true
    },
    "kernelspec": {
      "name": "python3",
      "display_name": "Python 3"
    }
  },
  "cells": [
    {
      "cell_type": "markdown",
      "metadata": {
        "id": "view-in-github",
        "colab_type": "text"
      },
      "source": [
        "<a href=\"https://colab.research.google.com/github/carlos-luengas-22/edd_1310_2021/blob/master/24denoviembre_1310.ipynb\" target=\"_parent\"><img src=\"https://colab.research.google.com/assets/colab-badge.svg\" alt=\"Open In Colab\"/></a>"
      ]
    },
    {
      "cell_type": "code",
      "metadata": {
        "colab": {
          "base_uri": "https://localhost:8080/",
          "height": 129
        },
        "id": "6XGGTab9jYtX",
        "outputId": "118d711b-4ecc-4cab-c229-4635c34dedcf"
      },
      "source": [
        "clase  NodoDoble :\n",
        "    def  __init__ ( self , value , anterior =  None , siguiente =  None ):\n",
        "        yo . datos =  valor\n",
        "        yo . siguiente =  siguiente\n",
        "        yo . prev =  anterior\n",
        "\n",
        "clase  DoubleLinkedList :\n",
        "    def  __init__ ( yo ):\n",
        "        yo . __head =  NodoDoble ( Ninguno )\n",
        "        yo . __tail =  NodoDoble ( Ninguno )\n",
        "        yo . __tamaño =  0\n",
        "\n",
        "    def  get_size ( self ):\n",
        "        volver a  sí mismo . __Talla \n",
        "\n",
        "    def  is_empty ( auto ):\n",
        "        volver a  sí mismo . __tamaño ==  0\n",
        "\n",
        "    def  append ( self , value ):\n",
        "        si  yo . is_empty ():\n",
        "            nuevo =  NodoDoble ( valor )\n",
        "            yo . __head  =  nuevo\n",
        "            yo . __tail  =  nuevo\n",
        "        otra cosa :\n",
        "            nuevo  =  NodoDoble ( valor , self . __tail , Ninguno )\n",
        "            yo . __tail . siguiente  =  nuevo\n",
        "            yo . __tail  =  nuevo\n",
        "        yo . __tamaño  + =  1\n",
        "\n",
        "    def  transversal ( auto ):\n",
        "        curr_node  =  self . __cabeza\n",
        "        while  curr_node  ! =  Ninguno :\n",
        "            print ( f \"<- {  curr_node . data  } ->\" , end = \"\" )\n",
        "            curr_node  =  curr_node . siguiente\n",
        "        imprimir ( \"\" )\n",
        "\n",
        "    def  reverse_transversal ( auto ):\n",
        "            curr_node  =  self . __cola\n",
        "            while  curr_node  ! =  Ninguno :\n",
        "                print ( f \"<- {  curr_node . data  } ->\" , end = \"\" )\n",
        "                curr_node  =  curr_node . anterior\n",
        "            imprimir ( \"\" )\n",
        "\n",
        "    def  remove_from_head ( self , value ):\n",
        "        curr_node  =  self . __cabeza \n",
        "        mientras  curr_node . datos  ! =  valor  y  curr_node  ! =  Ninguno :\n",
        "            curr_node = curr_node . siguiente\n",
        "        si  curr_node  ==  valor :\n",
        "            curr_node . prev . siguiente =  curr_node . siguiente\n",
        "            curr_node . siguiente . prev =  curr_node . anterior\n",
        "        curr_node . siguiente  =  Ninguno\n",
        "        curr_node . prev  =  Ninguno\n",
        "        yo . __tamaño  - = 1\n",
        "\n",
        "\n",
        "ld  =  DoubleLinkedList ()\n",
        "print ( \"¿Esta vacía ?:\" , ld . is_empty ())\n",
        "ld . añadir ( 10 )\n",
        "ld . añadir ( 20 )\n",
        "ld . añadir ( 30 )\n",
        "print ( f \"La lista tiene { ld . get_size () } elementos\" )\n",
        "ld . transversal ()\n",
        "ld . reverse_transversal ()\n",
        "ld . remove_from_head ( 10 )\n",
        "ld . transversal () "
      ],
      "execution_count": 1,
      "outputs": [
        {
          "output_type": "error",
          "ename": "SyntaxError",
          "evalue": "ignored",
          "traceback": [
            "\u001b[0;36m  File \u001b[0;32m\"<ipython-input-1-2c3cda47f0b0>\"\u001b[0;36m, line \u001b[0;32m1\u001b[0m\n\u001b[0;31m    clase  NodoDoble :\u001b[0m\n\u001b[0m                   ^\u001b[0m\n\u001b[0;31mSyntaxError\u001b[0m\u001b[0;31m:\u001b[0m invalid syntax\n"
          ]
        }
      ]
    }
  ]
}