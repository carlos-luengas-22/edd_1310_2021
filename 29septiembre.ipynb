{
  "nbformat": 4,
  "nbformat_minor": 0,
  "metadata": {
    "colab": {
      "name": "Untitled0.ipynb",
      "provenance": [],
      "authorship_tag": "ABX9TyMYKky7UqoTjcgfUfqNuEJv",
      "include_colab_link": true
    },
    "kernelspec": {
      "name": "python3",
      "display_name": "Python 3"
    }
  },
  "cells": [
    {
      "cell_type": "markdown",
      "metadata": {
        "id": "view-in-github",
        "colab_type": "text"
      },
      "source": [
        "<a href=\"https://colab.research.google.com/github/carlos-luengas-22/edd_1310_2021/blob/master/29septiembre.ipynb\" target=\"_parent\"><img src=\"https://colab.research.google.com/assets/colab-badge.svg\" alt=\"Open In Colab\"/></a>"
      ]
    },
    {
      "cell_type": "code",
      "metadata": {
        "id": "5v3LcWTutN2E"
      },
      "source": [
        "edad = 10"
      ],
      "execution_count": 2,
      "outputs": []
    },
    {
      "cell_type": "code",
      "metadata": {
        "id": "mvz8xuYwv2L_",
        "outputId": "f7d18961-4cdf-4f75-8962-95164b185a52",
        "colab": {
          "base_uri": "https://localhost:8080/",
          "height": 51
        }
      },
      "source": [
        "print(edad)\n",
        "colores=['rojo', 'azul', 'verde', 'morado', 'violeta']\n",
        "print(colores)"
      ],
      "execution_count": 17,
      "outputs": [
        {
          "output_type": "stream",
          "text": [
            "10\n",
            "['rojo', 'azul', 'verde', 'morado', 'violeta']\n"
          ],
          "name": "stdout"
        }
      ]
    },
    {
      "cell_type": "code",
      "metadata": {
        "id": "w1MQWQyZwTSI",
        "outputId": "3893894b-ebdc-44d4-a7e1-997247e0b8e0",
        "colab": {
          "base_uri": "https://localhost:8080/",
          "height": 35
        }
      },
      "source": [
        "colores[3]"
      ],
      "execution_count": 18,
      "outputs": [
        {
          "output_type": "execute_result",
          "data": {
            "application/vnd.google.colaboratory.intrinsic+json": {
              "type": "string"
            },
            "text/plain": [
              "'morado'"
            ]
          },
          "metadata": {
            "tags": []
          },
          "execution_count": 18
        }
      ]
    },
    {
      "cell_type": "code",
      "metadata": {
        "id": "5n0X9Md9xNCA",
        "outputId": "a7935f80-3a81-4092-b743-faa77d69da02",
        "colab": {
          "base_uri": "https://localhost:8080/",
          "height": 68
        }
      },
      "source": [
        "print(colores[3][2:4])\n",
        "nombre = \"Alberto\"\n",
        "print(nombre[0])\n",
        "print(nombre[0:3])"
      ],
      "execution_count": 25,
      "outputs": [
        {
          "output_type": "stream",
          "text": [
            "ra\n",
            "A\n",
            "Ab\n"
          ],
          "name": "stdout"
        }
      ]
    },
    {
      "cell_type": "markdown",
      "metadata": {
        "id": "0IrkVkkAyXBg"
      },
      "source": [
        "# for en python\n",
        "2 variantes \n",
        "1. j in range (ini,tope,incremento)\n",
        "2. in [iterador]"
      ]
    },
    {
      "cell_type": "code",
      "metadata": {
        "id": "YP0y1yLiy_Hz",
        "outputId": "4fdcc927-5df0-4657-e382-4d03e7d850ca",
        "colab": {
          "base_uri": "https://localhost:8080/",
          "height": 102
        }
      },
      "source": [
        "for j in range(0,5,1):\n",
        "  print(colores[j])"
      ],
      "execution_count": 31,
      "outputs": [
        {
          "output_type": "stream",
          "text": [
            "rojo\n",
            "azul\n",
            "verde\n",
            "morado\n",
            "violeta\n"
          ],
          "name": "stdout"
        }
      ]
    },
    {
      "cell_type": "code",
      "metadata": {
        "id": "Jtc2Hujiz1OC",
        "outputId": "2e9faf82-7c78-4179-e240-7a5941d5ed17",
        "colab": {
          "base_uri": "https://localhost:8080/",
          "height": 102
        }
      },
      "source": [
        "for color in colores:\n",
        "  print(color)"
      ],
      "execution_count": 32,
      "outputs": [
        {
          "output_type": "stream",
          "text": [
            "rojo\n",
            "azul\n",
            "verde\n",
            "morado\n",
            "violeta\n"
          ],
          "name": "stdout"
        }
      ]
    },
    {
      "cell_type": "code",
      "metadata": {
        "id": "G_SNYsqE0oE2",
        "outputId": "7d3f2e07-d45b-4724-91aa-e33864efb310",
        "colab": {
          "base_uri": "https://localhost:8080/",
          "height": 136
        }
      },
      "source": [
        "for j in range(0,len(nombre),1):\n",
        "  print(nombre[j])"
      ],
      "execution_count": 34,
      "outputs": [
        {
          "output_type": "stream",
          "text": [
            "A\n",
            "l\n",
            "b\n",
            "e\n",
            "r\n",
            "t\n",
            "o\n"
          ],
          "name": "stdout"
        }
      ]
    },
    {
      "cell_type": "code",
      "metadata": {
        "id": "6mgZG3mv2MZr",
        "outputId": "741edecf-0d18-4110-de32-c079cad60916",
        "colab": {
          "base_uri": "https://localhost:8080/",
          "height": 34
        }
      },
      "source": [
        "for letra in nombre:\n",
        "  print(letra)"
      ],
      "execution_count": 49,
      "outputs": [
        {
          "output_type": "stream",
          "text": [
            "A\n"
          ],
          "name": "stdout"
        }
      ]
    },
    {
      "cell_type": "markdown",
      "metadata": {
        "id": "DVot1TWZ6iiW"
      },
      "source": [
        "Salto de linea\n",
        "---\n",
        "hola\n",
        "***\n",
        "hoola\n",
        "\n",
        "foto \n",
        "***\n",
        "![](data:image/jpeg;base64,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)"
      ]
    }
  ]
}