{
  "nbformat": 4,
  "nbformat_minor": 0,
  "metadata": {
    "colab": {
      "name": "15octubre_1310.ipynb",
      "provenance": [],
      "authorship_tag": "ABX9TyMlONCZZj1EXs1742HAKAAn",
      "include_colab_link": true
    },
    "kernelspec": {
      "name": "python3",
      "display_name": "Python 3"
    }
  },
  "cells": [
    {
      "cell_type": "markdown",
      "metadata": {
        "id": "view-in-github",
        "colab_type": "text"
      },
      "source": [
        "<a href=\"https://colab.research.google.com/github/carlos-luengas-22/edd_1310_2021/blob/master/15octubre_1310.ipynb\" target=\"_parent\"><img src=\"https://colab.research.google.com/assets/colab-badge.svg\" alt=\"Open In Colab\"/></a>"
      ]
    },
    {
      "cell_type": "code",
      "metadata": {
        "id": "BmQrvIJaDLQa",
        "outputId": "f62aaca3-5b83-4a86-dc89-de141c30fe9b",
        "colab": {
          "base_uri": "https://localhost:8080/",
          "height": 52
        }
      },
      "source": [
        "\"\"\"\n",
        "\n",
        "import mi_modulo\n",
        "\n",
        "x = mi_modulo.sumar( 4 , 7 )\n",
        "\n",
        "print( x )\n",
        "print( mi_modulo.multiplicar(4 , 5))\n",
        "print( mi_modulo.restar( 15 , 10))\n",
        "\"\"\"\n",
        "\n"
      ],
      "execution_count": 6,
      "outputs": [
        {
          "output_type": "execute_result",
          "data": {
            "application/vnd.google.colaboratory.intrinsic+json": {
              "type": "string"
            },
            "text/plain": [
              "'\\n\\nimport mi_modulo\\n\\nx = mi_modulo.sumar( 4 , 7 )\\n\\nprint( x )\\nprint( mi_modulo.multiplicar(4 , 5))\\nprint( mi_modulo.restar( 15 , 10))\\n'"
            ]
          },
          "metadata": {
            "tags": []
          },
          "execution_count": 6
        }
      ]
    },
    {
      "cell_type": "code",
      "metadata": {
        "id": "nc6li5ITKUQo",
        "outputId": "73f6d4e6-6528-4e93-bf9c-bc5045fcaec0",
        "colab": {
          "base_uri": "https://localhost:8080/",
          "height": 51
        }
      },
      "source": [
        "from mi_modulo import sumar , dividir\n",
        "\n",
        "print(sumar( 4 , 5 ))\n",
        "print(dividir(14,2))"
      ],
      "execution_count": 9,
      "outputs": [
        {
          "output_type": "stream",
          "text": [
            "9\n",
            "7.0\n"
          ],
          "name": "stdout"
        }
      ]
    },
    {
      "cell_type": "code",
      "metadata": {
        "id": "2gtlz6GPLc2K",
        "outputId": "6731e9dc-8b69-4ea3-fee2-ff945bd7b846",
        "colab": {
          "base_uri": "https://localhost:8080/",
          "height": 34
        }
      },
      "source": [
        "import mi_modulo as patito\n",
        "print(patito.sumar( 4 , 6))"
      ],
      "execution_count": 8,
      "outputs": [
        {
          "output_type": "stream",
          "text": [
            "10\n"
          ],
          "name": "stdout"
        }
      ]
    },
    {
      "cell_type": "code",
      "metadata": {
        "id": "S3IFrNLTODDO",
        "outputId": "87317ac1-803d-4178-a83a-f2985f1806e3",
        "colab": {
          "base_uri": "https://localhost:8080/",
          "height": 35
        }
      },
      "source": [
        "from joke_generator import generate\n",
        "generate()"
      ],
      "execution_count": 17,
      "outputs": [
        {
          "output_type": "execute_result",
          "data": {
            "application/vnd.google.colaboratory.intrinsic+json": {
              "type": "string"
            },
            "text/plain": [
              "'What’s E.T. short for? He’s only got little legs.'"
            ]
          },
          "metadata": {
            "tags": []
          },
          "execution_count": 17
        }
      ]
    },
    {
      "cell_type": "markdown",
      "metadata": {
        "id": "FHC0_FyNSXy0"
      },
      "source": [
        "#archivos\n",
        "- open (str , str )\n",
        "  1. nombre o ruta del archivo \n",
        "  1. 2 caracteres \n",
        "    - modo de apertura del archivo ( r, w , a si el archivo esxiste, x append si y solo si el archivo no esxiste)\n",
        "    - formato del archivo ( texto o binario)\n"
      ]
    },
    {
      "cell_type": "code",
      "metadata": {
        "id": "g4adJZ8BSusl"
      },
      "source": [
        "archivo = open(\"saludo.txt\",\"wt\")\n",
        "archivo.write(\"Hola mundo \\nola y adios\")\n",
        "archivo.close()"
      ],
      "execution_count": 19,
      "outputs": []
    },
    {
      "cell_type": "code",
      "metadata": {
        "id": "TVKdulrSUfwk",
        "outputId": "e9b052b1-89a2-470b-a5ea-13cdc0cba864",
        "colab": {
          "base_uri": "https://localhost:8080/",
          "height": 136
        }
      },
      "source": [
        "otro = open ('./sample_data/anscombe.json' , \"rt\")\n",
        "datos = otro.read()\n",
        "###print(datos)\n",
        "otro.close()\n",
        "\n",
        "arch = open('frutas.txt' , \"rt\")\n",
        "data= 'ppp'\n",
        "while (data != ''):\n",
        "  data = arch.readline()\n",
        "  print(data)\n",
        "arch.close()\n",
        "\n",
        "arch = open('frutas.txt' , \"rt\")\n",
        "list_frutas = arch.readlines()\n",
        "print(list_frutas)\n",
        "arch.close()"
      ],
      "execution_count": 37,
      "outputs": [
        {
          "output_type": "stream",
          "text": [
            "manzana,pera    ,     kiwi   ,  aguacate , \n",
            "\n",
            "limon   ,  naranja\n",
            "\n",
            "sandia   ,  papaya\n",
            "\n",
            "['manzana,pera    ,     kiwi   ,  aguacate , \\n', 'limon   ,  naranja\\n', 'sandia   ,  papaya']\n"
          ],
          "name": "stdout"
        }
      ]
    }
  ]
}