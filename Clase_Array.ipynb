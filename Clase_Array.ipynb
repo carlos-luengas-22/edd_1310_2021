{
  "nbformat": 4,
  "nbformat_minor": 0,
  "metadata": {
    "colab": {
      "name": "Clase_Array.ipynb",
      "provenance": [],
      "authorship_tag": "ABX9TyMe5JVWb9fURHDzKqnGKR79",
      "include_colab_link": true
    },
    "kernelspec": {
      "name": "python3",
      "display_name": "Python 3"
    }
  },
  "cells": [
    {
      "cell_type": "markdown",
      "metadata": {
        "id": "view-in-github",
        "colab_type": "text"
      },
      "source": [
        "<a href=\"https://colab.research.google.com/github/carlos-luengas-22/edd_1310_2021/blob/master/Clase_Array.ipynb\" target=\"_parent\"><img src=\"https://colab.research.google.com/assets/colab-badge.svg\" alt=\"Open In Colab\"/></a>"
      ]
    },
    {
      "cell_type": "code",
      "metadata": {
        "id": "2mWKwHjykrSm"
      },
      "source": [
        "class Array:\n",
        "    def _init_(self,tam):\n",
        "        self.__info = [0 for x in range(tam) ]\n",
        "\n",
        "    def get_item(self,posicion):\n",
        "        dato = -1\n",
        "        try:\n",
        "            dato = self.__info[posicion]\n",
        "        except Exception as e:\n",
        "            print(\"error de posicion\")\n",
        "            dato = \"error\"\n",
        "        return dato \n",
        "\n",
        "    def set_item(self,indice,posicion):\n",
        "        try:\n",
        "            self.__info[posicion]\n",
        "        except Exception as e:\n",
        "            print(\"error de posicion\")\n",
        "    def get_length(self):\n",
        "        return len(self.__info)\n",
        "\n",
        "    def _iter_(self):\n",
        "        return IteradorArreglo(self._info)                \n",
        "           \n",
        "    def Clear(self,dato):\n",
        "        self._info=[dato for x in range(len(self._info))]\n",
        "\n",
        "class _IteradorArreglo():\n",
        "    \n",
        "    def _init_(self,arr):\n",
        "        self.__arr = arr\n",
        "        self.__indice = 0\n",
        "    \n",
        "    def _iter_(self):\n",
        "        return self\n",
        "        \n",
        "    \n",
        "    def _next_(self):\n",
        "        if self._indice < len(self._arr):\n",
        "            dato = self._arr[self._indice]\n",
        "            self.__indice += 1\n",
        "            return dato\n",
        "        else :\n",
        "            raise StopIteration\n",
        "\n",
        "algo = Array(10)\n",
        "print(algo.get_item(3656))\n",
        "print(algo.get_item(3))\n",
        "print(f\"el arreglo tiene {algo.get_length()} elementos \")\n",
        "algo.Clear(777)\n",
        "print(algo.get_item(3))\n",
        "print(\"---------------------\")\n",
        "for x in algo:\n",
        "    print(x)"
      ],
      "execution_count": null,
      "outputs": []
    }
  ]
}