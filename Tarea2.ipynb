{
  "nbformat": 4,
  "nbformat_minor": 0,
  "metadata": {
    "colab": {
      "name": "Tarea2.ipynb",
      "provenance": [],
      "authorship_tag": "ABX9TyOJB7ucX0JJ9keAB9eRC4u0",
      "include_colab_link": true
    },
    "kernelspec": {
      "name": "python3",
      "display_name": "Python 3"
    }
  },
  "cells": [
    {
      "cell_type": "markdown",
      "metadata": {
        "id": "view-in-github",
        "colab_type": "text"
      },
      "source": [
        "<a href=\"https://colab.research.google.com/github/carlos-luengas-22/edd_1310_2021/blob/master/Tarea2.ipynb\" target=\"_parent\"><img src=\"https://colab.research.google.com/assets/colab-badge.svg\" alt=\"Open In Colab\"/></a>"
      ]
    },
    {
      "cell_type": "code",
      "metadata": {
        "id": "7fenijrPLGPa",
        "outputId": "dc9143cd-7404-436a-d56c-d4c432b66c42",
        "colab": {
          "base_uri": "https://localhost:8080/",
          "height": 646
        }
      },
      "source": [
        "datos = 0\n",
        "valor = 0\n",
        "renglon = 0\n",
        "numero = []\n",
        "\n",
        "\"Declaramos las variables que utilizaremos posteriormente\"\n",
        "\n",
        "archivo = open('Datos.txt','rt')\n",
        "datos = archivo.read()\n",
        "datos_1 = datos.replace(\" \" , \"\") \n",
        "archivo.close()\n",
        "\n",
        "#Hata aqui cargamos los datos y se le quitaron los espacios\n",
        "\n",
        "lista = range(len(datos_1))\n",
        "cuenta = 0\n",
        "iterador=\"\"\n",
        "\n",
        "#Le damos otro valor\n",
        "\n",
        "for i in lista :\n",
        "\n",
        "   if datos_1[i] == ',':\n",
        "        cuenta=1+cuenta    \n",
        "        valor=int(iterador)\n",
        "        numero.append(valor)\n",
        "        iterador=\"\"        \n",
        "   else :\n",
        "            iterador=iterador+datos_1[i]\n",
        "   if datos_1[i] == '\\n' :\n",
        "            renglon = renglon + 1\n",
        "            \n",
        "            if len(numero) != 0 :\n",
        "                print(\"El renglon numero :\", renglon)\n",
        "                print(\"Los numeros del renglon son : \", numero)\n",
        "                print(\"Por lo tanto la suma de este renglon es : \", sum(numero))\n",
        "            else : \n",
        "                print(\"este renglon de numero\", renglon, \"esta vacio\")\n",
        "                \n",
        "#En estos realizamos el conteo con una estructura de control \n",
        "\n",
        "            cuenta = 0\n",
        "            iterador=\"\"\n",
        "            numero = []\n",
        "\n",
        "total = [396, 365, 721, 373, 724, 461, 738, 583, 152]\n",
        "print(\"Finalmente, la suma total es:\",sum(total))"
      ],
      "execution_count": 14,
      "outputs": [
        {
          "output_type": "stream",
          "text": [
            "El renglon numero : 1\n",
            "Los numeros del renglon son :  [1, 2, 1, 14, 29, 45, 5, 58, 56, 10, 29, 14, 88, 17, 4, 3, 1, 7, 12]\n",
            "Por lo tanto la suma de este renglon es :  396\n",
            "este renglon de numero 2 esta vacio\n",
            "El renglon numero : 3\n",
            "Los numeros del renglon son :  [2, 23, 5, 8, 44, 2, 2, 13, 5, 9, 10, 16, 98, 76, 47, 1, 1, 3]\n",
            "Por lo tanto la suma de este renglon es :  365\n",
            "este renglon de numero 4 esta vacio\n",
            "El renglon numero : 5\n",
            "Los numeros del renglon son :  [3, 87, 15, 11, 9, 7, 90, 97, 21, 3, 4, 1, 8, 88, 74, 32, 34, 43, 17, 77]\n",
            "Por lo tanto la suma de este renglon es :  721\n",
            "este renglon de numero 6 esta vacio\n",
            "El renglon numero : 7\n",
            "Los numeros del renglon son :  [4, 46, 8, 1, 6, 2, 10, 37, 84, 4, 5, 9, 10, 2, 6, 31, 1, 1, 8, 4, 20, 33, 23, 18]\n",
            "Por lo tanto la suma de este renglon es :  373\n",
            "este renglon de numero 8 esta vacio\n",
            "El renglon numero : 9\n",
            "Los numeros del renglon son :  [55, 3, 2, 29, 58, 83, 9, 17, 1, 43, 20, 93, 31, 46, 43, 77, 8, 44, 45, 17]\n",
            "Por lo tanto la suma de este renglon es :  724\n",
            "este renglon de numero 10 esta vacio\n",
            "El renglon numero : 11\n",
            "Los numeros del renglon son :  [6, 74, 13, 44, 18, 45, 11, 93, 2, 1, 1, 1, 25, 1, 42, 18, 22, 44]\n",
            "Por lo tanto la suma de este renglon es :  461\n",
            "este renglon de numero 12 esta vacio\n",
            "El renglon numero : 13\n",
            "Los numeros del renglon son :  [7, 88, 93, 6, 54, 2, 8, 1, 41, 86, 79, 33, 48, 9, 32, 63, 18, 7, 33, 2, 1, 16, 11]\n",
            "Por lo tanto la suma de este renglon es :  738\n",
            "este renglon de numero 14 esta vacio\n",
            "El renglon numero : 15\n",
            "Los numeros del renglon son :  [8, 0, 22, 17, 30, 6, 2, 12, 47, 37, 34, 85, 47, 33, 2, 6, 8, 4, 5, 29, 30, 42, 77]\n",
            "Por lo tanto la suma de este renglon es :  583\n",
            "este renglon de numero 16 esta vacio\n",
            "El renglon numero : 17\n",
            "Los numeros del renglon son :  [9, 2, 3, 4, 1, 1, 3, 6, 7, 7, 8, 9, 5, 1, 3, 4, 9, 10, 12, 3, 1, 5, 6, 22, 11, 0]\n",
            "Por lo tanto la suma de este renglon es :  152\n",
            "este renglon de numero 18 esta vacio\n",
            "Finalmente, la suma total es: 4513\n"
          ],
          "name": "stdout"
        }
      ]
    }
  ]
}