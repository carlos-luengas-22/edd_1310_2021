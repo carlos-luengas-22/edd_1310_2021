{
  "nbformat": 4,
  "nbformat_minor": 0,
  "metadata": {
    "colab": {
      "name": "20octubre_1310.ipynb",
      "provenance": [],
      "authorship_tag": "ABX9TyPNmLxCiwkCwDv1vsOGJTlC",
      "include_colab_link": true
    },
    "kernelspec": {
      "name": "python3",
      "display_name": "Python 3"
    }
  },
  "cells": [
    {
      "cell_type": "markdown",
      "metadata": {
        "id": "view-in-github",
        "colab_type": "text"
      },
      "source": [
        "<a href=\"https://colab.research.google.com/github/carlos-luengas-22/edd_1310_2021/blob/master/20octubre_1310.ipynb\" target=\"_parent\"><img src=\"https://colab.research.google.com/assets/colab-badge.svg\" alt=\"Open In Colab\"/></a>"
      ]
    },
    {
      "cell_type": "markdown",
      "metadata": {
        "id": "2cBEQSDm2uho"
      },
      "source": [
        ""
      ]
    },
    {
      "cell_type": "code",
      "metadata": {
        "id": "wD8-lKHk1XPb",
        "outputId": "d95ff494-ad6e-4162-f1c9-6b8754535716",
        "colab": {
          "base_uri": "https://localhost:8080/",
          "height": 272
        }
      },
      "source": [
        "archivo = open('numeros.txt' , 'rt')\n",
        "for linea in archivo.readlines():\n",
        "  for trunc in linea.split(','):\n",
        "    print(trunc.strip())"
      ],
      "execution_count": 1,
      "outputs": [
        {
          "output_type": "stream",
          "text": [
            "23\n",
            "34\n",
            "45\n",
            "3\n",
            "44\n",
            "4\n",
            "56\n",
            "32\n",
            "5\n",
            "45\n",
            "7\n",
            "8\n",
            "6\n",
            "89\n",
            "\n"
          ],
          "name": "stdout"
        }
      ]
    },
    {
      "cell_type": "markdown",
      "metadata": {
        "id": "7GjQlomb2zLi"
      },
      "source": [
        "# Sintaxis del python\n",
        "dos versiones de for\n",
        "1. range\n",
        "2. in iterator\n"
      ]
    },
    {
      "cell_type": "code",
      "metadata": {
        "id": "Kg5-onbq3osT",
        "outputId": "327eeeb7-6040-43f7-e3f0-079857fbd893",
        "colab": {
          "base_uri": "https://localhost:8080/",
          "height": 170
        }
      },
      "source": [
        "r = range (0,10,2)\n",
        "for x in r:\n",
        "  print(x)\n",
        "\n",
        "#este for se usa para modificar el formato, sea concatenar una cadena o modificar el texto.etc\n",
        "colores = ['rojo' , 'rosa' , 'azul' , 'fiusha']\n",
        "for indice in range(0,4,1):\n",
        "    #print(colores[indice])\n",
        "    colores[indice] = colores[indice].upper()\n",
        "\n",
        "# for sobre un iterador\n",
        "\n",
        "for col in colores:\n",
        "  print(col)\n",
        "\n"
      ],
      "execution_count": 2,
      "outputs": [
        {
          "output_type": "stream",
          "text": [
            "0\n",
            "2\n",
            "4\n",
            "6\n",
            "8\n",
            "ROJO\n",
            "ROSA\n",
            "AZUL\n",
            "FIUSHA\n"
          ],
          "name": "stdout"
        }
      ]
    },
    {
      "cell_type": "markdown",
      "metadata": {
        "id": "cIUj5ecv8BXp"
      },
      "source": [
        "#Generadores\n",
        "[0 for x in range() ]\n",
        "alli marcamos una ista de 10 ceros, asi es la logica\n",
        "\n",
        "\n",
        "[[0,0,0],\n",
        " [0,0,0],\n",
        " [0,0,0]]\n",
        "\n",
        "matriz de 3x3"
      ]
    },
    {
      "cell_type": "code",
      "metadata": {
        "id": "pT-ob_qa8b89",
        "outputId": "c3841672-28cd-4172-c471-077b3fd8c00a",
        "colab": {
          "base_uri": "https://localhost:8080/",
          "height": 156
        }
      },
      "source": [
        "lista = [0 for x in range(10)]\n",
        "print(lista)\n",
        "lista = [x for x in range(10)]\n",
        "print(lista)\n",
        "lista = [colores for x in range(10)]\n",
        "print(lista)\n",
        "#primero generamos el que se quiere generar, y cuantas veces al final\n",
        "\n",
        "#generamos una matriz\n",
        "lista = [[0,0,0] for x in range(3)]\n",
        "print(lista)\n",
        "\n",
        "#esta es la mejor forma\n",
        "lista = [[0 for x in range (3)] for x in range(3)]\n",
        "print(lista)\n",
        "\n",
        "lista = [[3 for x in range (4)] for x in range(3)]\n",
        "print(lista)\n",
        "\n",
        "#ahora utilizamos variables predefinida\n",
        "ren = 3\n",
        "col = 3\n",
        "lista = [[0 for x in range (ren)] for x in range(col)]\n",
        "print(lista)"
      ],
      "execution_count": 3,
      "outputs": [
        {
          "output_type": "stream",
          "text": [
            "[0, 0, 0, 0, 0, 0, 0, 0, 0, 0]\n",
            "[0, 1, 2, 3, 4, 5, 6, 7, 8, 9]\n",
            "[['ROJO', 'ROSA', 'AZUL', 'FIUSHA'], ['ROJO', 'ROSA', 'AZUL', 'FIUSHA'], ['ROJO', 'ROSA', 'AZUL', 'FIUSHA'], ['ROJO', 'ROSA', 'AZUL', 'FIUSHA'], ['ROJO', 'ROSA', 'AZUL', 'FIUSHA'], ['ROJO', 'ROSA', 'AZUL', 'FIUSHA'], ['ROJO', 'ROSA', 'AZUL', 'FIUSHA'], ['ROJO', 'ROSA', 'AZUL', 'FIUSHA'], ['ROJO', 'ROSA', 'AZUL', 'FIUSHA'], ['ROJO', 'ROSA', 'AZUL', 'FIUSHA']]\n",
            "[[0, 0, 0], [0, 0, 0], [0, 0, 0]]\n",
            "[[0, 0, 0], [0, 0, 0], [0, 0, 0]]\n",
            "[[3, 3, 3, 3], [3, 3, 3, 3], [3, 3, 3, 3]]\n",
            "[[0, 0, 0], [0, 0, 0], [0, 0, 0]]\n"
          ],
          "name": "stdout"
        }
      ]
    },
    {
      "cell_type": "markdown",
      "metadata": {
        "id": "5tU2KPsT_I_y"
      },
      "source": [
        "#POO en python\n",
        "- clase\n",
        "- creacion de objetos\n",
        "- constructor\n",
        "- encapsulamiento \n",
        "- metodos\n",
        "- atributos\n",
        "- herencia"
      ]
    },
    {
      "cell_type": "code",
      "metadata": {
        "id": "T6Er2MA0_dYi",
        "outputId": "c65c7d68-deb5-49da-fe3c-f1efc39d7929",
        "colab": {
          "base_uri": "https://localhost:8080/",
          "height": 34
        }
      },
      "source": [
        "class computadora:\n",
        "  def __init__( self , m , p):\n",
        "    self.__marca = m\n",
        "    self.__procesador = p\n",
        "\n",
        "  def to_string( self ):\n",
        "    return \"Marca:\"+self.__marca+\" Procesador:\"+self.__procesador\n",
        "\n",
        "mi_pc = computadora(\"Toshiba\" , \"intel i7\")\n",
        "mi_pc.__marca=\"Hp \"\n",
        "print(mi_pc.to_string())"
      ],
      "execution_count": 16,
      "outputs": [
        {
          "output_type": "stream",
          "text": [
            "Marca:Toshiba Procesador:intel i7\n"
          ],
          "name": "stdout"
        }
      ]
    }
  ]
}