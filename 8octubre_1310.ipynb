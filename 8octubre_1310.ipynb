{
  "nbformat": 4,
  "nbformat_minor": 0,
  "metadata": {
    "colab": {
      "name": "8octubre_1310.ipynb",
      "provenance": [],
      "authorship_tag": "ABX9TyN5101AtidcPv+jd/RMcRGt",
      "include_colab_link": true
    },
    "kernelspec": {
      "name": "python3",
      "display_name": "Python 3"
    }
  },
  "cells": [
    {
      "cell_type": "markdown",
      "metadata": {
        "id": "view-in-github",
        "colab_type": "text"
      },
      "source": [
        "<a href=\"https://colab.research.google.com/github/carlos-luengas-22/edd_1310_2021/blob/master/8octubre_1310.ipynb\" target=\"_parent\"><img src=\"https://colab.research.google.com/assets/colab-badge.svg\" alt=\"Open In Colab\"/></a>"
      ]
    },
    {
      "cell_type": "code",
      "metadata": {
        "id": "enLwcYyo8CUN",
        "outputId": "6c089d45-8188-429a-8904-410b2519ded0",
        "colab": {
          "base_uri": "https://localhost:8080/",
          "height": 139
        }
      },
      "source": [
        "#Listas\n",
        "\n",
        "monitores =[[\"Samsung\",\"17.3 \\\"\",1024],[\"BenQ\",\"40\\\"\",2048]]\n",
        "procesadores = [[\"Intel\",\"i7\",3.4],[\"AMD\",\"razzer\",3.3],[\"Intel\",\"i3\",3.1]]\n",
        "memorias = [[\"Kingston\", \"8GB\",\"DDR4\"],[\"Kingston\", \"16GB\",\"DDR3\"],[\"ADATA\", \"32GB\",\"DDR4\"]]\n",
        "\n",
        "componentes = [monitores,procesadores,memorias]\n",
        "\n",
        "print(componentes)\n",
        "print(componentes[1])\n",
        "print(componentes[2][1][1])\n",
        "print(componentes[0][1][2]*2)\n",
        "print(componentes[1][1][1][1:4])\n",
        "print(componentes[2][2][0].lower())\n",
        "#agregar elemento\n",
        "componentes[2].append()"
      ],
      "execution_count": 22,
      "outputs": [
        {
          "output_type": "stream",
          "text": [
            "[[['Samsung', '17.3 \"', 1024], ['BenQ', '40\"', 2048]], [['Intel', 'i7', 3.4], ['AMD', 'razzer', 3.3], ['Intel', 'i3', 3.1]], [['Kingston', '8GB', 'DDR4'], ['Kingston', '16GB', 'DDR3'], ['ADATA', '32GB', 'DDR4']]]\n",
            "[['Intel', 'i7', 3.4], ['AMD', 'razzer', 3.3], ['Intel', 'i3', 3.1]]\n",
            "16GB\n",
            "4096\n",
            "azz\n",
            "adata\n"
          ],
          "name": "stdout"
        }
      ]
    },
    {
      "cell_type": "code",
      "metadata": {
        "id": "cevbcrotH5Mu",
        "outputId": "663f8e73-a09b-471a-e81f-18ab3dee0f4e",
        "colab": {
          "base_uri": "https://localhost:8080/",
          "height": 153
        }
      },
      "source": [
        "#copiar listas\n",
        "#extender listas\n",
        "\n",
        "frutas = [\"manzana\" , \"pera\"]\n",
        "otras_frutas = [\"aguacate\" , \"sandia\"]\n",
        "\n",
        "#mas listas\n",
        "frutas=frutas + otras_frutas\n",
        "print(frutas)\n",
        "\n",
        "#funcion extend\n",
        "frutas.extend(otras_frutas)\n",
        "print(frutas)\n",
        "\n",
        "\n",
        "frutas.append(otras_frutas)\n",
        "print(frutas)\n",
        "#agraga la lista a la otra lista, no concadena las listas como tal\n",
        "\n",
        "#Copiar\n",
        "colores = [\"azul\", \"rojo\", \"verde\", \"violeta\"]\n",
        "otros_colores = colores\n",
        "print(colores)\n",
        "print(otros_colores)\n",
        "\n",
        "una_mas = colores.copy()\n",
        "print(una_mas)\n",
        "una_mas.append(\"gris\")\n",
        "print(una_mas)\n",
        "print(colores)\n",
        "\n"
      ],
      "execution_count": 30,
      "outputs": [
        {
          "output_type": "stream",
          "text": [
            "['manzana', 'pera', 'aguacate', 'sandia']\n",
            "['manzana', 'pera', 'aguacate', 'sandia', 'aguacate', 'sandia']\n",
            "['manzana', 'pera', 'aguacate', 'sandia', 'aguacate', 'sandia', ['aguacate', 'sandia']]\n",
            "['azul', 'rojo', 'verde', 'violeta']\n",
            "['azul', 'rojo', 'verde', 'violeta']\n",
            "['azul', 'rojo', 'verde', 'violeta']\n",
            "['azul', 'rojo', 'verde', 'violeta', 'gris']\n",
            "['azul', 'rojo', 'verde', 'violeta']\n"
          ],
          "name": "stdout"
        }
      ]
    },
    {
      "cell_type": "code",
      "metadata": {
        "id": "Aq6HQnAcQpUc"
      },
      "source": [
        "alumno = "
      ],
      "execution_count": null,
      "outputs": []
    },
    {
      "cell_type": "markdown",
      "metadata": {
        "id": "5L-i5MEqR8OQ"
      },
      "source": [
        "#Tuplas\n",
        "- se declaran con parentesis ()\n",
        "- selector es igal que en las listas []\n",
        "- no son mutables (no se modifica)\n"
      ]
    },
    {
      "cell_type": "code",
      "metadata": {
        "id": "2rk5T8RTSNnC",
        "outputId": "542ad758-da06-4616-f52e-5af1c1a2d32d",
        "colab": {
          "base_uri": "https://localhost:8080/",
          "height": 68
        }
      },
      "source": [
        "precios= ( 99.9 , 49.9 , 12.45 , 23.3 , 33.44 , 55.66 )\n",
        "print(precios[1])\n",
        "#precios[1]=50.0\n",
        "print(precios)\n",
        "print(precios[2:4])"
      ],
      "execution_count": 40,
      "outputs": [
        {
          "output_type": "stream",
          "text": [
            "49.9\n",
            "(99.9, 49.9, 12.45, 23.3, 33.44, 55.66)\n",
            "(12.45, 23.3)\n"
          ],
          "name": "stdout"
        }
      ]
    },
    {
      "cell_type": "markdown",
      "metadata": {
        "id": "DfKdaZtoTrZK"
      },
      "source": [
        "#Diccionarios\n",
        "- se declaran con { }\n",
        "- si son mutables\n",
        "- conjuntos de pares llave\n",
        "- equivalentes a los Json de JavaScript\n"
      ]
    },
    {
      "cell_type": "code",
      "metadata": {
        "id": "pZSlQecxT6kr",
        "outputId": "4ae77c66-0ef5-4a6e-b45e-0db438df2de6",
        "colab": {
          "base_uri": "https://localhost:8080/",
          "height": 139
        }
      },
      "source": [
        "cliente = {}\n",
        "print(cliente)\n",
        "alumno = {   \"num_cta\"  : 30303030    }\n",
        "print(alumno)\n",
        "alumno = {\"num_cta\"  : 30303030 , \n",
        "          \"carrera\" : \"ICO\" , \n",
        "          \"promedio\" : 9.8 , \n",
        "          \"materias\" : [\"EDD\" , \"CyP\" , \"Calidad\" , \"Emprendimiento\"] , \n",
        "          \"Direccion\" : {\n",
        "                          \"calle\" : \"rancho seco\" , \n",
        "                          \"numero\" : 23 , \n",
        "                          \"delegacion\" : \"neza\" , \n",
        "                          \"Direccion\" : {\n",
        "                              \"calle\" : \"Rancho seco\" , \n",
        "                              \"C.P\" : 57170 , \n",
        "                              \"estado\" : \"Edomex\"\n",
        "                          }}\n",
        "}\n",
        "print(alumno)\n",
        "print(alumno['materias'])\n",
        "print(alumno['promedio'])\n",
        "print(alumno['Direccion']['Direccion']['estado'])"
      ],
      "execution_count": 9,
      "outputs": [
        {
          "output_type": "stream",
          "text": [
            "{}\n",
            "{'num_cta': 30303030}\n",
            "{'num_cta': 30303030, 'carrera': 'ICO', 'promedio': 9.8, 'materias': ['EDD', 'CyP', 'Calidad', 'Emprendimiento'], 'Direccion': {'calle': 'rancho seco', 'numero': 23, 'delegacion': 'neza', 'Direccion': {'calle': 'Rancho seco', 'C.P': 57170, 'estado': 'Edomex'}}}\n",
            "['EDD', 'CyP', 'Calidad', 'Emprendimiento']\n",
            "9.8\n",
            "Edomex\n"
          ],
          "name": "stdout"
        }
      ]
    }
  ]
}