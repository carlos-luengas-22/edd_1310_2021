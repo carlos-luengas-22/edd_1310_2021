{
  "nbformat": 4,
  "nbformat_minor": 0,
  "metadata": {
    "colab": {
      "name": "Tarea_1310.ipynb",
      "provenance": [],
      "authorship_tag": "ABX9TyPXy7GFUYWIbhU/4jNG0x1i",
      "include_colab_link": true
    },
    "kernelspec": {
      "name": "python3",
      "display_name": "Python 3"
    }
  },
  "cells": [
    {
      "cell_type": "markdown",
      "metadata": {
        "id": "view-in-github",
        "colab_type": "text"
      },
      "source": [
        "<a href=\"https://colab.research.google.com/github/carlos-luengas-22/edd_1310_2021/blob/master/Tarea_1310.ipynb\" target=\"_parent\"><img src=\"https://colab.research.google.com/assets/colab-badge.svg\" alt=\"Open In Colab\"/></a>"
      ]
    },
    {
      "cell_type": "code",
      "metadata": {
        "colab": {
          "base_uri": "https://localhost:8080/"
        },
        "id": "1fePU00B4c-R",
        "outputId": "ffdda527-27c5-44ed-a23b-703ddeb9ced5"
      },
      "source": [
        "class Nodo():\n",
        "\n",
        "  def __init__(self,dato):\n",
        "    self.dato = dato\n",
        "    self.siguiente = None\n",
        "\n",
        "class circular():\n",
        "  \n",
        "###Definiendo\n",
        "  def __init__(self,dato):\n",
        "    self.dato = dato\n",
        "    self.sig = None\n",
        "\n",
        "  def __init__(self):\n",
        "    self.prim = None\n",
        "    self.ult = None\n",
        "\n",
        "  def empty ( self):\n",
        "    return self.prim == None\n",
        "  \n",
        "  def add_inicio(self,dato): \n",
        "    if self.empty():\n",
        "         self.prim = self.ult = Nodo(dato)\n",
        "         self.ult.sig = self.prim\n",
        "\n",
        "    else:\n",
        "      cn = Nodo(dato)\n",
        "      cn.sig = self.prim\n",
        "      self.prim = cn\n",
        "      self.ult.sig = self.prim\n",
        "\n",
        "   \n",
        "  def add_final(self, dato):\n",
        "    if self.empty():\n",
        "      self.prim = self.ult = Nodo(dato)\n",
        "      self.ult.sig = self.prim\n",
        "    else: \n",
        "      cn = self.ult\n",
        "      self.ult = cn.sig = Nodo(dato)\n",
        "      self.ult.sig = self.prim \n",
        "  \n",
        "  def mostrar_datos(self):\n",
        "    cn = self.prim \n",
        "    while cn:\n",
        "      print(cn.dato)\n",
        "      cn = cn.sig\n",
        "      if cn == self.prim:\n",
        "        break \n",
        "\n",
        "###Nostrando datos\n",
        "  def delete_inicio(self):\n",
        "    if self.empty():\n",
        "      print('No hay datos al inicio')\n",
        "    elif self.prim == self.ult:\n",
        "        self.prim = self.ult = None\n",
        "    else:\n",
        "      self.prim = self.prim.sig\n",
        "      self.ult.sig = self.prim\n",
        "\n",
        "  def delete_final(self):\n",
        "    if self.empty():\n",
        "      print('No hay datos al final')\n",
        "    elif self.prim == self.ult:\n",
        "        self.prim = self.ult = None\n",
        "    else:\n",
        "        cn = self.prim\n",
        "        while cn.sig != self.ult:\n",
        "          cn = cn.sigu\n",
        "        cn.sig = self.prim\n",
        "        self.ult = cn\n",
        "\n",
        "l = circular()\n",
        "\n",
        "l.add_inicio(16)\n",
        "l.add_final(50)\n",
        "l.add_inicio(13)\n",
        "\n",
        "l.mostrar_datos()\n",
        "print(\"-----------------------\")\n",
        "print(\"Se quita un dato\")\n",
        "l.delete_inicio()\n",
        "l.delete_final()\n",
        "\n",
        "l.mostrar_datos()\n",
        "print(\"Queda solo 16\")\n"
      ],
      "execution_count": 2,
      "outputs": [
        {
          "output_type": "stream",
          "text": [
            "13\n",
            "16\n",
            "50\n",
            "-----------------------\n",
            "Se quita un dato\n",
            "16\n",
            "Queda solo 16\n"
          ],
          "name": "stdout"
        }
      ]
    }
  ]
}