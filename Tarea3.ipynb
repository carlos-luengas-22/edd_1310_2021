{
  "nbformat": 4,
  "nbformat_minor": 0,
  "metadata": {
    "colab": {
      "name": "Tarea3.ipynb",
      "provenance": [],
      "authorship_tag": "ABX9TyOi8opV67xKFtO6gvSRG2Gv",
      "include_colab_link": true
    },
    "kernelspec": {
      "name": "python3",
      "display_name": "Python 3"
    }
  },
  "cells": [
    {
      "cell_type": "markdown",
      "metadata": {
        "id": "view-in-github",
        "colab_type": "text"
      },
      "source": [
        "<a href=\"https://colab.research.google.com/github/carlos-luengas-22/edd_1310_2021/blob/master/Tarea3.ipynb\" target=\"_parent\"><img src=\"https://colab.research.google.com/assets/colab-badge.svg\" alt=\"Open In Colab\"/></a>"
      ]
    },
    {
      "cell_type": "code",
      "metadata": {
        "id": "9KkLVcb94lEQ",
        "outputId": "8e843ff3-ad52-453d-e747-48721a6315a1",
        "colab": {
          "base_uri": "https://localhost:8080/",
          "height": 102
        }
      },
      "source": [
        "class persona:\n",
        "  def __init__( self , m , p , e):\n",
        "    self.__nombre = m\n",
        "    self.__edad = p\n",
        "    self.__estatura = e\n",
        "\n",
        "  def to_string( self ):\n",
        "    return \"Mi nombre es : \"+self.__nombre+\" \\nTengo la edad de: \"+self.__edad+\" años\"+\"\\nMido \"+self.__estatura+\" metros\"\n",
        "  \n",
        "  def dormir( self ):\n",
        "    return \"Tengo mucho sueño\"\n",
        "    \n",
        "  def comer( self ):\n",
        "    return \"Es horaa de una buena hambuerguesa\"\n",
        "\n",
        "juan = persona(\"juan\" , \"18\" , \"1.81\")\n",
        "print(juan.to_string())\n",
        "print(juan.comer())\n",
        "print(juan.dormir())"
      ],
      "execution_count": 1,
      "outputs": [
        {
          "output_type": "stream",
          "text": [
            "Mi nombre es : juan \n",
            "Tengo la edad de: 18 años\n",
            "Mido 1.81 metros\n",
            "Es horaa de una buena hambuerguesa\n",
            "Tengo mucho sueño\n"
          ],
          "name": "stdout"
        }
      ]
    },
    {
      "cell_type": "code",
      "metadata": {
        "id": "ImbtpSCT-7wX",
        "outputId": "47e7b93f-1a91-4b00-9507-87b3ee9d9f16",
        "colab": {
          "base_uri": "https://localhost:8080/",
          "height": 102
        }
      },
      "source": [
        "class celular:\n",
        "  def __init__( self , m , p , e):\n",
        "    self.__marca = m\n",
        "    self.__modelo = p\n",
        "    self.__memoria = e\n",
        "\n",
        "  def to_strings( self ):\n",
        "    return \"La marca del celular es : \"+self.__marca+\" \\nEs el modelo: \"+self.__modelo+\"\\ny tiene de memoria \"+self.__memoria+\" gb\"\n",
        "  \n",
        "  def llamar( self ):\n",
        "    return \"llamando a armando perez\"\n",
        "    \n",
        "  def poner_alarma( self ):\n",
        "    return \"Alarma lista para las 7 am\"\n",
        "\n",
        "fon = celular(\"xiaomi\" , \" note 8\" , \"128\")\n",
        "print(fon.to_strings())\n",
        "print(fon.llamar())\n",
        "print(fon.poner_alarma())"
      ],
      "execution_count": 7,
      "outputs": [
        {
          "output_type": "stream",
          "text": [
            "La marca del celular es : xiaomi \n",
            "Es el modelo:  note 8\n",
            "y tiene de memoria 128 gb\n",
            "llamando a armando perez\n",
            "Alarma lista para las 7 am\n"
          ],
          "name": "stdout"
        }
      ]
    }
  ]
}