{
  "nbformat": 4,
  "nbformat_minor": 0,
  "metadata": {
    "colab": {
      "name": "13octubre_1310.ipynb",
      "provenance": [],
      "authorship_tag": "ABX9TyPheeldM1zhFwGg74Y9ODE6",
      "include_colab_link": true
    },
    "kernelspec": {
      "name": "python3",
      "display_name": "Python 3"
    }
  },
  "cells": [
    {
      "cell_type": "markdown",
      "metadata": {
        "id": "view-in-github",
        "colab_type": "text"
      },
      "source": [
        "<a href=\"https://colab.research.google.com/github/carlos-luengas-22/edd_1310_2021/blob/master/13octubre_1310.ipynb\" target=\"_parent\"><img src=\"https://colab.research.google.com/assets/colab-badge.svg\" alt=\"Open In Colab\"/></a>"
      ]
    },
    {
      "cell_type": "code",
      "metadata": {
        "id": "PLS4X3bytj1a",
        "outputId": "6248f8d8-1dcb-4514-bf40-fe5b1c37a8d6",
        "colab": {
          "base_uri": "https://localhost:8080/",
          "height": 105
        }
      },
      "source": [
        "alumno = { \n",
        "          \"num_cta\" : 303030303 ,\n",
        "          \"carrera\" : \"ICO\",\n",
        "          \"promedio\" : 9.8,\n",
        "          \"materias\" :[\"EDD\",\"CyP\",\"Calidad\",\"Emprendimiento\"],\n",
        "          \"direccion\" : { \n",
        "                            \"calle\":\"rancho seco\",\n",
        "                            \"numero\" : 23 ,\n",
        "                            \"delegacion\" : \"Neza\",\n",
        "                            \"estado\" : {\n",
        "                                        \"id\" : 15 ,\n",
        "                                        \"nombre\" : \"Estado de Máxico\" ,\n",
        "                                        \"nombre_corto\" : \"EdoMex\"\n",
        "                                        } ,\n",
        "                            \"CP\":57170\n",
        "\n",
        "                        } \n",
        "          }\n",
        "\n",
        "print(alumno)\n",
        "alumno['carrera']=\"Ingenieria en Computacion\"\n",
        "print(alumno)\n",
        "alumno['nombre_completo']={'primer' : \" Juan\",\n",
        "                           'segundo' : \"Pedro\",\n",
        "                           \"matern\" : \"Perez\",\n",
        "                           \"paterno\" : \"Gomez\"\n",
        "                           }\n",
        "alumno['semestre']=3\n",
        "print(alumno)\n",
        "print(f\"{alumno['nombre_completo']['primer']} {alumno['nombre_completo']['segundo']}\")"
      ],
      "execution_count": 5,
      "outputs": [
        {
          "output_type": "stream",
          "text": [
            "{'num_cta': 303030303, 'carrera': 'ICO', 'promedio': 9.8, 'materias': ['EDD', 'CyP', 'Calidad', 'Emprendimiento'], 'direccion': {'calle': 'rancho seco', 'numero': 23, 'delegacion': 'Neza', 'estado': {'id': 15, 'nombre': 'Estado de Máxico', 'nombre_corto': 'EdoMex'}, 'CP': 57170}}\n",
            "{'num_cta': 303030303, 'carrera': 'Ingenieria en Computacion', 'promedio': 9.8, 'materias': ['EDD', 'CyP', 'Calidad', 'Emprendimiento'], 'direccion': {'calle': 'rancho seco', 'numero': 23, 'delegacion': 'Neza', 'estado': {'id': 15, 'nombre': 'Estado de Máxico', 'nombre_corto': 'EdoMex'}, 'CP': 57170}}\n",
            "{'num_cta': 303030303, 'carrera': 'Ingenieria en Computacion', 'promedio': 9.8, 'materias': ['EDD', 'CyP', 'Calidad', 'Emprendimiento'], 'direccion': {'calle': 'rancho seco', 'numero': 23, 'delegacion': 'Neza', 'estado': {'id': 15, 'nombre': 'Estado de Máxico', 'nombre_corto': 'EdoMex'}, 'CP': 57170}, 'nombre_completo': {'primer': ' Juan', 'segundo': 'Pedro', 'matern': 'Perez', 'paterno': 'Gomez'}, 'semestre': 3}\n",
            " Juan Pedro\n"
          ],
          "name": "stdout"
        }
      ]
    },
    {
      "cell_type": "code",
      "metadata": {
        "id": "PHkaLEewx97h",
        "outputId": "77347b69-50d4-4a3c-9de9-66ad792603e4",
        "colab": {
          "base_uri": "https://localhost:8080/",
          "height": 1000
        }
      },
      "source": [
        "#key() , value() , items()\n",
        "\n",
        "llaves = alumno.keys()\n",
        "print(llaves)\n",
        "for llave in llaves:\n",
        "  print(llave.upper())\n",
        "valores = alumno.values()\n",
        "print(valores)\n",
        "for val in valores:\n",
        "  print(val)\n",
        "\n",
        "  pares = alumno.items()\n",
        "  print(pares)\n",
        "\n",
        "  for elem in pares:\n",
        "    print(f\"el campo {elem[0]} tiene el valor { elem[1] }\")"
      ],
      "execution_count": 22,
      "outputs": [
        {
          "output_type": "stream",
          "text": [
            "dict_keys(['num_cta', 'carrera', 'promedio', 'materias', 'direccion', 'nombre_completo', 'semestre'])\n",
            "NUM_CTA\n",
            "CARRERA\n",
            "PROMEDIO\n",
            "MATERIAS\n",
            "DIRECCION\n",
            "NOMBRE_COMPLETO\n",
            "SEMESTRE\n",
            "dict_values([303030303, 'Ingenieria en Computacion', 9.8, ['EDD', 'CyP', 'Calidad', 'Emprendimiento'], {'calle': 'rancho seco', 'numero': 23, 'delegacion': 'Neza', 'estado': {'id': 15, 'nombre': 'Estado de Máxico', 'nombre_corto': 'EdoMex'}, 'CP': 57170}, {'primer': ' Juan', 'segundo': 'Pedro', 'matern': 'Perez', 'paterno': 'Gomez'}, 3])\n",
            "303030303\n",
            "dict_items([('num_cta', 303030303), ('carrera', 'Ingenieria en Computacion'), ('promedio', 9.8), ('materias', ['EDD', 'CyP', 'Calidad', 'Emprendimiento']), ('direccion', {'calle': 'rancho seco', 'numero': 23, 'delegacion': 'Neza', 'estado': {'id': 15, 'nombre': 'Estado de Máxico', 'nombre_corto': 'EdoMex'}, 'CP': 57170}), ('nombre_completo', {'primer': ' Juan', 'segundo': 'Pedro', 'matern': 'Perez', 'paterno': 'Gomez'}), ('semestre', 3)])\n",
            "el campo num_cta tiene el valor 303030303\n",
            "el campo carrera tiene el valor Ingenieria en Computacion\n",
            "el campo promedio tiene el valor 9.8\n",
            "el campo materias tiene el valor ['EDD', 'CyP', 'Calidad', 'Emprendimiento']\n",
            "el campo direccion tiene el valor {'calle': 'rancho seco', 'numero': 23, 'delegacion': 'Neza', 'estado': {'id': 15, 'nombre': 'Estado de Máxico', 'nombre_corto': 'EdoMex'}, 'CP': 57170}\n",
            "el campo nombre_completo tiene el valor {'primer': ' Juan', 'segundo': 'Pedro', 'matern': 'Perez', 'paterno': 'Gomez'}\n",
            "el campo semestre tiene el valor 3\n",
            "Ingenieria en Computacion\n",
            "dict_items([('num_cta', 303030303), ('carrera', 'Ingenieria en Computacion'), ('promedio', 9.8), ('materias', ['EDD', 'CyP', 'Calidad', 'Emprendimiento']), ('direccion', {'calle': 'rancho seco', 'numero': 23, 'delegacion': 'Neza', 'estado': {'id': 15, 'nombre': 'Estado de Máxico', 'nombre_corto': 'EdoMex'}, 'CP': 57170}), ('nombre_completo', {'primer': ' Juan', 'segundo': 'Pedro', 'matern': 'Perez', 'paterno': 'Gomez'}), ('semestre', 3)])\n",
            "el campo num_cta tiene el valor 303030303\n",
            "el campo carrera tiene el valor Ingenieria en Computacion\n",
            "el campo promedio tiene el valor 9.8\n",
            "el campo materias tiene el valor ['EDD', 'CyP', 'Calidad', 'Emprendimiento']\n",
            "el campo direccion tiene el valor {'calle': 'rancho seco', 'numero': 23, 'delegacion': 'Neza', 'estado': {'id': 15, 'nombre': 'Estado de Máxico', 'nombre_corto': 'EdoMex'}, 'CP': 57170}\n",
            "el campo nombre_completo tiene el valor {'primer': ' Juan', 'segundo': 'Pedro', 'matern': 'Perez', 'paterno': 'Gomez'}\n",
            "el campo semestre tiene el valor 3\n",
            "9.8\n",
            "dict_items([('num_cta', 303030303), ('carrera', 'Ingenieria en Computacion'), ('promedio', 9.8), ('materias', ['EDD', 'CyP', 'Calidad', 'Emprendimiento']), ('direccion', {'calle': 'rancho seco', 'numero': 23, 'delegacion': 'Neza', 'estado': {'id': 15, 'nombre': 'Estado de Máxico', 'nombre_corto': 'EdoMex'}, 'CP': 57170}), ('nombre_completo', {'primer': ' Juan', 'segundo': 'Pedro', 'matern': 'Perez', 'paterno': 'Gomez'}), ('semestre', 3)])\n",
            "el campo num_cta tiene el valor 303030303\n",
            "el campo carrera tiene el valor Ingenieria en Computacion\n",
            "el campo promedio tiene el valor 9.8\n",
            "el campo materias tiene el valor ['EDD', 'CyP', 'Calidad', 'Emprendimiento']\n",
            "el campo direccion tiene el valor {'calle': 'rancho seco', 'numero': 23, 'delegacion': 'Neza', 'estado': {'id': 15, 'nombre': 'Estado de Máxico', 'nombre_corto': 'EdoMex'}, 'CP': 57170}\n",
            "el campo nombre_completo tiene el valor {'primer': ' Juan', 'segundo': 'Pedro', 'matern': 'Perez', 'paterno': 'Gomez'}\n",
            "el campo semestre tiene el valor 3\n",
            "['EDD', 'CyP', 'Calidad', 'Emprendimiento']\n",
            "dict_items([('num_cta', 303030303), ('carrera', 'Ingenieria en Computacion'), ('promedio', 9.8), ('materias', ['EDD', 'CyP', 'Calidad', 'Emprendimiento']), ('direccion', {'calle': 'rancho seco', 'numero': 23, 'delegacion': 'Neza', 'estado': {'id': 15, 'nombre': 'Estado de Máxico', 'nombre_corto': 'EdoMex'}, 'CP': 57170}), ('nombre_completo', {'primer': ' Juan', 'segundo': 'Pedro', 'matern': 'Perez', 'paterno': 'Gomez'}), ('semestre', 3)])\n",
            "el campo num_cta tiene el valor 303030303\n",
            "el campo carrera tiene el valor Ingenieria en Computacion\n",
            "el campo promedio tiene el valor 9.8\n",
            "el campo materias tiene el valor ['EDD', 'CyP', 'Calidad', 'Emprendimiento']\n",
            "el campo direccion tiene el valor {'calle': 'rancho seco', 'numero': 23, 'delegacion': 'Neza', 'estado': {'id': 15, 'nombre': 'Estado de Máxico', 'nombre_corto': 'EdoMex'}, 'CP': 57170}\n",
            "el campo nombre_completo tiene el valor {'primer': ' Juan', 'segundo': 'Pedro', 'matern': 'Perez', 'paterno': 'Gomez'}\n",
            "el campo semestre tiene el valor 3\n",
            "{'calle': 'rancho seco', 'numero': 23, 'delegacion': 'Neza', 'estado': {'id': 15, 'nombre': 'Estado de Máxico', 'nombre_corto': 'EdoMex'}, 'CP': 57170}\n",
            "dict_items([('num_cta', 303030303), ('carrera', 'Ingenieria en Computacion'), ('promedio', 9.8), ('materias', ['EDD', 'CyP', 'Calidad', 'Emprendimiento']), ('direccion', {'calle': 'rancho seco', 'numero': 23, 'delegacion': 'Neza', 'estado': {'id': 15, 'nombre': 'Estado de Máxico', 'nombre_corto': 'EdoMex'}, 'CP': 57170}), ('nombre_completo', {'primer': ' Juan', 'segundo': 'Pedro', 'matern': 'Perez', 'paterno': 'Gomez'}), ('semestre', 3)])\n",
            "el campo num_cta tiene el valor 303030303\n",
            "el campo carrera tiene el valor Ingenieria en Computacion\n",
            "el campo promedio tiene el valor 9.8\n",
            "el campo materias tiene el valor ['EDD', 'CyP', 'Calidad', 'Emprendimiento']\n",
            "el campo direccion tiene el valor {'calle': 'rancho seco', 'numero': 23, 'delegacion': 'Neza', 'estado': {'id': 15, 'nombre': 'Estado de Máxico', 'nombre_corto': 'EdoMex'}, 'CP': 57170}\n",
            "el campo nombre_completo tiene el valor {'primer': ' Juan', 'segundo': 'Pedro', 'matern': 'Perez', 'paterno': 'Gomez'}\n",
            "el campo semestre tiene el valor 3\n",
            "{'primer': ' Juan', 'segundo': 'Pedro', 'matern': 'Perez', 'paterno': 'Gomez'}\n",
            "dict_items([('num_cta', 303030303), ('carrera', 'Ingenieria en Computacion'), ('promedio', 9.8), ('materias', ['EDD', 'CyP', 'Calidad', 'Emprendimiento']), ('direccion', {'calle': 'rancho seco', 'numero': 23, 'delegacion': 'Neza', 'estado': {'id': 15, 'nombre': 'Estado de Máxico', 'nombre_corto': 'EdoMex'}, 'CP': 57170}), ('nombre_completo', {'primer': ' Juan', 'segundo': 'Pedro', 'matern': 'Perez', 'paterno': 'Gomez'}), ('semestre', 3)])\n",
            "el campo num_cta tiene el valor 303030303\n",
            "el campo carrera tiene el valor Ingenieria en Computacion\n",
            "el campo promedio tiene el valor 9.8\n",
            "el campo materias tiene el valor ['EDD', 'CyP', 'Calidad', 'Emprendimiento']\n",
            "el campo direccion tiene el valor {'calle': 'rancho seco', 'numero': 23, 'delegacion': 'Neza', 'estado': {'id': 15, 'nombre': 'Estado de Máxico', 'nombre_corto': 'EdoMex'}, 'CP': 57170}\n",
            "el campo nombre_completo tiene el valor {'primer': ' Juan', 'segundo': 'Pedro', 'matern': 'Perez', 'paterno': 'Gomez'}\n",
            "el campo semestre tiene el valor 3\n",
            "3\n",
            "dict_items([('num_cta', 303030303), ('carrera', 'Ingenieria en Computacion'), ('promedio', 9.8), ('materias', ['EDD', 'CyP', 'Calidad', 'Emprendimiento']), ('direccion', {'calle': 'rancho seco', 'numero': 23, 'delegacion': 'Neza', 'estado': {'id': 15, 'nombre': 'Estado de Máxico', 'nombre_corto': 'EdoMex'}, 'CP': 57170}), ('nombre_completo', {'primer': ' Juan', 'segundo': 'Pedro', 'matern': 'Perez', 'paterno': 'Gomez'}), ('semestre', 3)])\n",
            "el campo num_cta tiene el valor 303030303\n",
            "el campo carrera tiene el valor Ingenieria en Computacion\n",
            "el campo promedio tiene el valor 9.8\n",
            "el campo materias tiene el valor ['EDD', 'CyP', 'Calidad', 'Emprendimiento']\n",
            "el campo direccion tiene el valor {'calle': 'rancho seco', 'numero': 23, 'delegacion': 'Neza', 'estado': {'id': 15, 'nombre': 'Estado de Máxico', 'nombre_corto': 'EdoMex'}, 'CP': 57170}\n",
            "el campo nombre_completo tiene el valor {'primer': ' Juan', 'segundo': 'Pedro', 'matern': 'Perez', 'paterno': 'Gomez'}\n",
            "el campo semestre tiene el valor 3\n"
          ],
          "name": "stdout"
        }
      ]
    },
    {
      "cell_type": "code",
      "metadata": {
        "id": "-mwEhg6X1Dan",
        "outputId": "1bc6bb48-8152-4ec1-dcf6-d71573d419cd",
        "colab": {
          "base_uri": "https://localhost:8080/",
          "height": 34
        }
      },
      "source": [
        "#concatenar diccionarios\n",
        "computadora = {\"procesador\":\"intel i7\",\"ram\":\"Kinsgton 128gb\"}\n",
        "otros = {\"monitor\":\"LG 49\\\"\", \"hd\":\"tosshiba 1tb\"}\n",
        "computadora.update(otros)\n",
        "print(computadora)"
      ],
      "execution_count": 19,
      "outputs": [
        {
          "output_type": "stream",
          "text": [
            "{'procesador': 'intel i7', 'ram': 'Kinsgton 128gb', 'monitor': 'LG 49\"', 'hd': 'tosshiba 1tb'}\n"
          ],
          "name": "stdout"
        }
      ]
    },
    {
      "cell_type": "markdown",
      "metadata": {
        "id": "GKKMEezA2oiX"
      },
      "source": [
        "#Funciones \n",
        "- Son unidades de codigo reutilizable\n",
        "- Es un mecanismo de organizacion de codigo\n",
        "- Una funcion toma de 0 a n parametros de entrada\n",
        "- Tiene una sola salida (return) de cualquier tipo de dato\n",
        "- solo puedes hacer 2 cosas:\n",
        "      - definirla\n",
        "      - llamarla\n",
        "- Se definen con la palabra reservada 'def'"
      ]
    },
    {
      "cell_type": "code",
      "metadata": {
        "id": "d5my97Wf36Mt",
        "outputId": "5fe4efa0-37b6-4637-fcbf-a5bc51e5440f",
        "colab": {
          "base_uri": "https://localhost:8080/",
          "height": 68
        }
      },
      "source": [
        "def sumar( x , y):\n",
        "  resultado = x + y\n",
        "  return resultado\n",
        "\n",
        "def saludar( nombre ):\n",
        "  print(f\"hola {nombre}, ¿como estas?\")\n",
        "\n",
        "print(sumar(10,5))\n",
        "print(sumar(16,20))\n",
        "saludar(\"jesus\")\n",
        "\n"
      ],
      "execution_count": 34,
      "outputs": [
        {
          "output_type": "stream",
          "text": [
            "15\n",
            "36\n",
            "hola jesus, ¿como estas?\n"
          ],
          "name": "stdout"
        }
      ]
    },
    {
      "cell_type": "code",
      "metadata": {
        "id": "kD9BFnUtESpP"
      },
      "source": [
        "# valores por defecto\n",
        "def comanda( primer , fuerte , postre=\"galleta de animalito\" ):\n",
        "  print(f\"de entrada pidio:{ primer }\")\n",
        "  print(f\"de plato fuerte { fuerte }\")\n",
        "  print(f\"postre : { postre }\")\n",
        "\n",
        "\n",
        "# argumentos posicionales con tuplas * \n",
        "def comanda_2( *opciones ):\n",
        "  print(opciones)\n",
        "  print(f\"de entrada pidio:{ opciones[0] }\")\n",
        "  print(f\"de plato fuerte { opciones[1] }\")\n",
        "  print(f\"postre : { opciones[2] }\")\n",
        "\n",
        "\n",
        "comanda(\"sopa aguada\",\"tortas de papa\",\"gelatina de limón\")\n",
        "comanda(\"sopa aguada\",\"tortas de papa\")\n",
        "comanda_2(\"sopa aguada\",\"tortas de papa\",\"gelatina de limón\" \"las tortas bien doradas y traer dos limones \")"
      ],
      "execution_count": null,
      "outputs": []
    }
  ]
}