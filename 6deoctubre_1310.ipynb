{
  "nbformat": 4,
  "nbformat_minor": 0,
  "metadata": {
    "colab": {
      "name": "6deoctubre-1310.ipynb",
      "provenance": [],
      "authorship_tag": "ABX9TyN3WH+z0XUVBukIjRvkKO6L",
      "include_colab_link": true
    },
    "kernelspec": {
      "name": "python3",
      "display_name": "Python 3"
    }
  },
  "cells": [
    {
      "cell_type": "markdown",
      "metadata": {
        "id": "view-in-github",
        "colab_type": "text"
      },
      "source": [
        "<a href=\"https://colab.research.google.com/github/carlos-luengas-22/edd_1310_2021/blob/master/6deoctubre_1310.ipynb\" target=\"_parent\"><img src=\"https://colab.research.google.com/assets/colab-badge.svg\" alt=\"Open In Colab\"/></a>"
      ]
    },
    {
      "cell_type": "code",
      "metadata": {
        "id": "WYbQXlleqnWC",
        "outputId": "8d556022-1a66-490f-fe63-277bfbff6e01",
        "colab": {
          "base_uri": "https://localhost:8080/",
          "height": 204
        }
      },
      "source": [
        "# String continuacion \n",
        "\n",
        "numeros_txt = \"     1,  2,   3,  4     , 5     ,    35    ,   15    , 12   \"\n",
        "print(numeros_txt)\n",
        "numeros_txt = numeros_txt.lstrip().split(',')\n",
        "print(numeros_txt)\n",
        "\n",
        "for j in range(len(numeros_txt)):\n",
        "  numeros_txt[j] = int(numeros_txt[j].strip())\n",
        "\n",
        "print(numeros_txt)\n",
        "\n",
        "#Funcion Range\n",
        "\n",
        "# range(inicio, stop , incremento )\n",
        "print(range(0,10,3))\n",
        "rango= range(1,20,3)\n",
        "\n",
        "for x in rango:\n",
        "  print(x)"
      ],
      "execution_count": 13,
      "outputs": [
        {
          "output_type": "stream",
          "text": [
            "     1,  2,   3,  4     , 5     ,    35    ,   15    , 12   \n",
            "['1', '  2', '   3', '  4     ', ' 5     ', '    35    ', '   15    ', ' 12   ']\n",
            "[1, 2, 3, 4, 5, 35, 15, 12]\n",
            "range(0, 10, 3)\n",
            "1\n",
            "4\n",
            "7\n",
            "10\n",
            "13\n",
            "16\n",
            "19\n"
          ],
          "name": "stdout"
        }
      ]
    },
    {
      "cell_type": "markdown",
      "metadata": {
        "id": "4zEUSiTcxJnM"
      },
      "source": [
        "# Listas \n",
        "- Mutables\n",
        "- Se declaran con []\n",
        "- Su selector [int]\n",
        "- Puede ser en cualquier tipo \n",
        "\n",
        "#Tuplas\n",
        "- No mutables\n",
        "- Se declaran con ()\n",
        "- Selector []\n",
        "\n",
        "#Diccionarios\n",
        "- Son mutables\n",
        "- Son conjunto de pares llave:valor\n",
        "- Son equivalentes a los objetos Json de JavaScirpt\n",
        "\n",
        "#Conjuntos\n",
        "- Representaciones de la teoria de conjuntos"
      ]
    },
    {
      "cell_type": "code",
      "metadata": {
        "id": "C80upj0LyVY6",
        "outputId": "12d2702d-54e1-4833-cecb-e7a1ebcfe54c",
        "colab": {
          "base_uri": "https://localhost:8080/",
          "height": 136
        }
      },
      "source": [
        "#Listas equivale a arreglos\n",
        "frutas=[\"Pera\" , \"Manzana\" , \"fresa\" , \"Kiwi\" , \"Naranja\"]\n",
        "print(frutas)\n",
        "cosas=[\"Cuaderno\", 2 , 3.1416 , True , False , [\"Rojo\" , \"Azul\"]]\n",
        "print(cosas)\n",
        "frutas[2]=\"Fresa\"\n",
        "print(frutas)\n",
        "#Ageagar\n",
        "frutas.append(\"Aguacate\")\n",
        "print(frutas)\n",
        "#Agregar en otra poscicion\n",
        "frutas.insert(2,\"Sandia\")\n",
        "print(frutas)\n",
        "\n",
        "fecha = [\"06\" , \"10\" , \"2020\"]  \n",
        "print(fecha)\n",
        "fecha_str = \"/\".join(fecha)\n",
        "print(fecha_str)\n",
        "\n"
      ],
      "execution_count": 31,
      "outputs": [
        {
          "output_type": "stream",
          "text": [
            "['Pera', 'Manzana', 'fresa', 'Kiwi', 'Naranja']\n",
            "['Cuaderno', 2, 3.1416, True, False, ['Rojo', 'Azul']]\n",
            "['Pera', 'Manzana', 'Fresa', 'Kiwi', 'Naranja']\n",
            "['Pera', 'Manzana', 'Fresa', 'Kiwi', 'Naranja', 'Aguacate']\n",
            "['Pera', 'Manzana', 'Sandia', 'Fresa', 'Kiwi', 'Naranja', 'Aguacate']\n",
            "['06', '10', '2020']\n",
            "06/10/2020\n"
          ],
          "name": "stdout"
        }
      ]
    },
    {
      "cell_type": "code",
      "metadata": {
        "id": "FQIpskln3YEX",
        "outputId": "d1268037-56e0-421d-f436-e3ce32a43935",
        "colab": {
          "base_uri": "https://localhost:8080/",
          "height": 153
        }
      },
      "source": [
        "#eliminar elementos\n",
        "print(cosas)\n",
        "cosas.append(\"Libro\")\n",
        "cosas.append(\"Lapiz\")\n",
        "print(cosas)\n",
        "cosas.pop()\n",
        "print(cosas)\n",
        "algo=cosas.pop()\n",
        "print(cosas)\n",
        "print(algo)\n",
        "#Vaciar lista\n",
        "cosas.clear()\n",
        "print(cosas)\n",
        "\n",
        "#ordenar\n",
        "print(frutas)\n",
        "frutas.sort()\n",
        "print(frutas)"
      ],
      "execution_count": 45,
      "outputs": [
        {
          "output_type": "stream",
          "text": [
            "['Libro', 'Libro']\n",
            "['Libro', 'Libro', 'Libro', 'Lapiz']\n",
            "['Libro', 'Libro', 'Libro']\n",
            "['Libro', 'Libro']\n",
            "Libro\n",
            "[]\n",
            "['Pera', 'Manzana', 'Sandia', 'Fresa', 'Kiwi', 'Naranja', 'Aguacate']\n",
            "['Aguacate', 'Fresa', 'Kiwi', 'Manzana', 'Naranja', 'Pera', 'Sandia']\n"
          ],
          "name": "stdout"
        }
      ]
    },
    {
      "cell_type": "code",
      "metadata": {
        "id": "luLu728K7LZl",
        "outputId": "cbd5a674-9371-4c8c-8906-26215d9e92ef",
        "colab": {
          "base_uri": "https://localhost:8080/",
          "height": 119
        }
      },
      "source": [
        "#Slicing\n",
        "\n",
        "cosas = [\"Cuaderno\" , 2 , 3.1416 , True , False , [\"Rojo\" , \"Azul\"]]\n",
        "print(cosas[3:5:1])\n",
        "print(cosas)\n",
        "print(cosas[0][3:5:1])\n",
        "\n",
        "numeros = [0,1,2,3,4,5,6,7,8,9,10,11,12,13,14,15]\n",
        "print(numeros[8:13])\n",
        "#El incremento se puede anular pk va de 1 en 1\n",
        "\n",
        "#Sustituir Rebanadas -2,-2 -> [0,1,2,3,4,5,6,7,-2,-2,13]\n",
        "\n",
        "numeros[8:13] = [-2,-2]\n",
        "print(numeros)\n",
        "\n",
        "#Preguntar por existencia\n",
        "print(-2 in numeros)"
      ],
      "execution_count": 57,
      "outputs": [
        {
          "output_type": "stream",
          "text": [
            "[True, False]\n",
            "['Cuaderno', 2, 3.1416, True, False, ['Rojo', 'Azul']]\n",
            "de\n",
            "[8, 9, 10, 11, 12]\n",
            "[0, 1, 2, 3, 4, 5, 6, 7, -2, -2, 13, 14, 15]\n",
            "True\n"
          ],
          "name": "stdout"
        }
      ]
    },
    {
      "cell_type": "markdown",
      "metadata": {
        "id": "k0j3Vgfr-rav"
      },
      "source": [
        "#Listas Multidimension \n",
        "listas dentro de listas"
      ]
    },
    {
      "cell_type": "code",
      "metadata": {
        "id": "yuwVOxYC-vwl",
        "outputId": "ae29f48d-a92e-4fdf-aaec-b2f3f0a2096c",
        "colab": {
          "base_uri": "https://localhost:8080/",
          "height": 207
        }
      },
      "source": [
        "computadoras = [\"HP\" , \"Mac Book Pro 17\" , \"Mate Book\" , \"Lenovo Legion\"]\n",
        "oss = [\"Windows 10\" , \"Linux\" , \"Android\" , \"Ios\" ]\n",
        "\n",
        "computo = [computadoras , oss]\n",
        "print(computo[0])\n",
        "print(computo[1])\n",
        "print(computo[0][2])\n",
        "print(computo[0][2][0:5])\n",
        "print(computo[0][3][0:6])\n",
        "print(computo[0][3][5::-1])\n",
        "print(\"Linux\" in computo[1])\n",
        "dbms = [\"Mysql\",\"Open Source\" , False] , [\"MS SQL Server\" ,  \"De paga\", True]\n",
        "computo.append(dbms)\n",
        "print(computo)\n",
        "print(computo[2][0][0])\n",
        "print(computo[2][1][1])"
      ],
      "execution_count": 78,
      "outputs": [
        {
          "output_type": "stream",
          "text": [
            "['HP', 'Mac Book Pro 17', 'Mate Book', 'Lenovo Legion']\n",
            "['Windows 10', 'Linux', 'Android', 'Ios']\n",
            "Mate Book\n",
            "Mate \n",
            "Lenovo\n",
            "ovoneL\n",
            "True\n",
            "[['HP', 'Mac Book Pro 17', 'Mate Book', 'Lenovo Legion'], ['Windows 10', 'Linux', 'Android', 'Ios'], (['Mysql', 'Open Source', False], ['MS SQL Server', 'De paga', True])]\n",
            "Mysql\n",
            "De paga\n"
          ],
          "name": "stdout"
        }
      ]
    }
  ]
}