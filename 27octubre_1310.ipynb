{
  "nbformat": 4,
  "nbformat_minor": 0,
  "metadata": {
    "colab": {
      "name": "27octubre_1310.ipynb",
      "provenance": [],
      "authorship_tag": "ABX9TyMHWcoh0dZn+9Nl3FzysMPE",
      "include_colab_link": true
    },
    "kernelspec": {
      "name": "python3",
      "display_name": "Python 3"
    }
  },
  "cells": [
    {
      "cell_type": "markdown",
      "metadata": {
        "id": "view-in-github",
        "colab_type": "text"
      },
      "source": [
        "<a href=\"https://colab.research.google.com/github/carlos-luengas-22/edd_1310_2021/blob/master/27octubre_1310.ipynb\" target=\"_parent\"><img src=\"https://colab.research.google.com/assets/colab-badge.svg\" alt=\"Open In Colab\"/></a>"
      ]
    },
    {
      "cell_type": "code",
      "metadata": {
        "id": "KL02ds2MDZdI",
        "outputId": "8975d828-3d08-4ca5-e5ec-97ab60101aff",
        "colab": {
          "base_uri": "https://localhost:8080/",
          "height": 51
        }
      },
      "source": [
        "class computadora:\n",
        "  def __init__( self , m , p):\n",
        "    self.__marca = m\n",
        "    self.__procesador = p\n",
        "\n",
        "  def to_string( self ):\n",
        "    return \"Marca:\"+self.__marca+\" Procesador:\"+self.__procesador\n",
        "\n",
        "mi_pc = computadora(\"Toshiba\" , \"intel i7\")\n",
        "print(mi_pc.to_string())\n",
        "mi_pc.__marca=\"Hp \" #intentamos cambiar el valor privado\n",
        "print(mi_pc.to_string())"
      ],
      "execution_count": 1,
      "outputs": [
        {
          "output_type": "stream",
          "text": [
            "Marca:Toshiba Procesador:intel i7\n",
            "Marca:Toshiba Procesador:intel i7\n"
          ],
          "name": "stdout"
        }
      ]
    },
    {
      "cell_type": "markdown",
      "metadata": {
        "id": "svfXMElbEJSQ"
      },
      "source": [
        "# Encapsulamiento Python \n",
        "## tradicional tipo java\n",
        "      void setAtributo(valor)\n",
        "      tioo getAtributo()\n",
        "## estilo python 3\n",
        "Utilizando decoradores\n",
        "- @property\n",
        "- @atributo.setter"
      ]
    },
    {
      "cell_type": "code",
      "metadata": {
        "id": "TP7NQ5wqE6KR"
      },
      "source": [
        "class computadora:\n",
        "  def __init__( self , m , p):\n",
        "    self.__marca = m\n",
        "    self.__procesador = p\n",
        "\n",
        "  def to_string( self ):\n",
        "    return \"Marca:\"+self.__marca+\" Procesador:\"+self.__procesador\n",
        "\n",
        "mi_pc = computadora(\"Toshiba\" , \"intel i7\")\n",
        "print(mi_pc.to_string())\n",
        "mi_pc.__marca=\"Hp \" #intentamos cambiar el valor privado\n",
        "print(mi_pc.to_string())"
      ],
      "execution_count": null,
      "outputs": []
    },
    {
      "cell_type": "code",
      "metadata": {
        "id": "lg9UM8d_IcDW",
        "outputId": "b5b2ba22-eada-4650-e95f-ade84ff1d938",
        "colab": {
          "base_uri": "https://localhost:8080/",
          "height": 51
        }
      },
      "source": [
        "class computadora:\n",
        "  def __init__( self , m , p):\n",
        "    self.__marca = m #Se manda a llamar el decorador #property\n",
        "    self.__procesador = p #Se manda a llamar el decorador #property\n",
        "\n",
        "  @property   #Se declara como atributo privado y funciona como metodo get\n",
        "  def marca(self):\n",
        "    return self.__marca\n",
        "\n",
        "  @marca.setter\n",
        "  def marca(self , m):\n",
        "    self.__marca = m\n",
        "\n",
        "  @property\n",
        "  def procesador(self):\n",
        "    return self.__procesador\n",
        "\n",
        "  @procesador.setter\n",
        "  def procesador(self , p):\n",
        "    self.__procesador = p\n",
        "\n",
        "  def to_string( self ):\n",
        "    return \"marca: \" + self.marca + \" procesador: \" + self.procesador\n",
        "\n",
        "mi_pc2 = computadora(\"macBook pro\" , \"Intel i7\")\n",
        "print(mi_pc2.to_string())\n",
        "mi_pc2.marca= \"Dell\"\n",
        "print(mi_pc2.to_string())"
      ],
      "execution_count": 4,
      "outputs": [
        {
          "output_type": "stream",
          "text": [
            "marca: macBook pro procesador: Intel i7\n",
            "marca: Dell procesador: Intel i7\n"
          ],
          "name": "stdout"
        }
      ]
    },
    {
      "cell_type": "code",
      "metadata": {
        "id": "cvXG7G7dQ5qu",
        "outputId": "46f1a632-2044-49cf-9d69-c121ab3eef02",
        "colab": {
          "base_uri": "https://localhost:8080/",
          "height": 51
        }
      },
      "source": [
        "# Herencia , pasandp la clase base a la declaracion\n",
        "class ServidorEmpresaria( computadora):\n",
        "  def __init__(self):\n",
        "    print(\"hola servidor\")\n",
        "\n",
        "server = ServidorEmpresaria()\n",
        "server.marca= \"sun mycro systems\"\n",
        "server.procesador = \"Ryzen 5\"\n",
        "print(server.to_string())\n"
      ],
      "execution_count": 5,
      "outputs": [
        {
          "output_type": "stream",
          "text": [
            "hola servidor\n",
            "marca: sun mycro systems procesador: Ryzen 5\n"
          ],
          "name": "stdout"
        }
      ]
    }
  ]
}