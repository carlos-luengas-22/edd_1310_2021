{
  "nbformat": 4,
  "nbformat_minor": 0,
  "metadata": {
    "colab": {
      "name": "1octubre_1310.ipynb",
      "provenance": [],
      "authorship_tag": "ABX9TyOSTsZt52PKjbVA0yqBDgZd",
      "include_colab_link": true
    },
    "kernelspec": {
      "name": "python3",
      "display_name": "Python 3"
    }
  },
  "cells": [
    {
      "cell_type": "markdown",
      "metadata": {
        "id": "view-in-github",
        "colab_type": "text"
      },
      "source": [
        "<a href=\"https://colab.research.google.com/github/carlos-luengas-22/edd_1310_2021/blob/master/1octubre_1310.ipynb\" target=\"_parent\"><img src=\"https://colab.research.google.com/assets/colab-badge.svg\" alt=\"Open In Colab\"/></a>"
      ]
    },
    {
      "cell_type": "code",
      "metadata": {
        "id": "6FxXXqiN7jm8"
      },
      "source": [
        ""
      ],
      "execution_count": null,
      "outputs": []
    },
    {
      "cell_type": "markdown",
      "metadata": {
        "id": "NOxfBhLX7t2W"
      },
      "source": [
        "## Intro Python 3\n",
        "### Variables\n",
        "tipo dinamico\n",
        "`escuela = \"fes aragon\"`"
      ]
    },
    {
      "cell_type": "code",
      "metadata": {
        "id": "jsuOB2Zi8GnS",
        "outputId": "c618fb7e-a559-4351-91dc-3e73b43fd1f2",
        "colab": {
          "base_uri": "https://localhost:8080/",
          "height": 170
        }
      },
      "source": [
        "escuela = \"Fes Aragon\"\n",
        "print(escuela)\n",
        "print(\"----\")\n",
        "edad=20\n",
        "estatura=1.84\n",
        "fumador=True\n",
        "frase=\"\"\"\n",
        "Esta es \n",
        "una frase\n",
        "de multiples lineas\n",
        "y tambien \n",
        "es un tipo de dato\n",
        "\"\"\"\n",
        "print(frase)\n",
        "nombre='jose'\n",
        "\n"
      ],
      "execution_count": 5,
      "outputs": [
        {
          "output_type": "stream",
          "text": [
            "Fes Aragon\n",
            "----\n",
            "\n",
            "Esta es \n",
            "una frase\n",
            "de multiples lineas\n",
            "y tambien \n",
            "es un tipo de dato\n",
            "\n"
          ],
          "name": "stdout"
        }
      ]
    },
    {
      "cell_type": "markdown",
      "metadata": {
        "id": "pq5RFzXc9-y4"
      },
      "source": [
        "#Print\n",
        "con comas, \n",
        "\n",
        "con signos mas + \n",
        "\n",
        "con format()\n",
        "\n",
        "con el operador f"
      ]
    },
    {
      "cell_type": "code",
      "metadata": {
        "id": "gbLlsfhA-ivV",
        "outputId": "e255d12c-b6f3-4771-a5f6-38a4d42f4285",
        "colab": {
          "base_uri": "https://localhost:8080/",
          "height": 34
        }
      },
      "source": [
        "# la coma da un espacio entre variables\n",
        "print(nombre,edad)"
      ],
      "execution_count": 6,
      "outputs": [
        {
          "output_type": "stream",
          "text": [
            "jose 20\n"
          ],
          "name": "stdout"
        }
      ]
    },
    {
      "cell_type": "code",
      "metadata": {
        "id": "siOMWrL_-6fZ",
        "outputId": "662fd87f-d91a-4411-aa43-7410c65798f1",
        "colab": {
          "base_uri": "https://localhost:8080/",
          "height": 153
        }
      },
      "source": [
        "#El mas concatena como en java\n",
        "print(\"hola \" + nombre + str(edad))\n",
        "#se convierte en cadena para poder concatenar, pero si ambos son string  no importa\n",
        "print(nombre+frase)"
      ],
      "execution_count": 10,
      "outputs": [
        {
          "output_type": "stream",
          "text": [
            "hola jose20\n",
            "jose\n",
            "Esta es \n",
            "una frase\n",
            "de multiples lineas\n",
            "y tambien \n",
            "es un tipo de dato\n",
            "\n"
          ],
          "name": "stdout"
        }
      ]
    },
    {
      "cell_type": "code",
      "metadata": {
        "id": "cG9LP3AoAUQc",
        "outputId": "10202d2d-b9db-46f4-bee2-7c1b1967f979",
        "colab": {
          "base_uri": "https://localhost:8080/",
          "height": 68
        }
      },
      "source": [
        "# con formato -> su nombre es jose y su edad es 13 años\n",
        "print(\"su nombre es\",nombre,\"y su edad es de\",edad,\"años\")\n",
        "print(\"su nombre es {0} y su edad es de {1} años\".format(nombre,edad))\n",
        "print(\"su nombre es {1} y su edad es de {0} años\".format(nombre,edad))"
      ],
      "execution_count": 19,
      "outputs": [
        {
          "output_type": "stream",
          "text": [
            "su nombre es jose y su edad es de 20 años\n",
            "su nombre es jose y su edad es de 20 años\n",
            "su nombre es 20 y su edad es de jose años\n"
          ],
          "name": "stdout"
        }
      ]
    },
    {
      "cell_type": "code",
      "metadata": {
        "id": "LfEyMiHgBweO",
        "outputId": "2f328c07-3a22-435b-a1ae-632a69d6cc0d",
        "colab": {
          "base_uri": "https://localhost:8080/",
          "height": 34
        }
      },
      "source": [
        "# con formato con el operador f\"\"\n",
        "print(f\"su nombre es {nombre} y su edad es de {13} años\")"
      ],
      "execution_count": 20,
      "outputs": [
        {
          "output_type": "stream",
          "text": [
            "su nombre es jose y su edad es de 13 años\n"
          ],
          "name": "stdout"
        }
      ]
    },
    {
      "cell_type": "markdown",
      "metadata": {
        "id": "2hp1gp9tCPpx"
      },
      "source": [
        "#Caracter de escape\n",
        "\\n salto de linea\n",
        "\n",
        "\\t tabulador\n",
        "\n",
        "\\a beep\n",
        "\n",
        "\\\" imprimir comillas en palabras\n",
        "\n",
        "\\' imprimir comillas simples"
      ]
    },
    {
      "cell_type": "code",
      "metadata": {
        "id": "al-BhoYgDdHR",
        "outputId": "84002ba9-586f-45ab-d92c-dfe91b4bbfd3",
        "colab": {
          "base_uri": "https://localhost:8080/",
          "height": 51
        }
      },
      "source": [
        "\"\"\"\n",
        "un comentario\n",
        "solamente\n",
        "\"\"\"\n",
        "print(f\"\\tMi nombre es\\n\\t\\t{nombre}\")"
      ],
      "execution_count": 21,
      "outputs": [
        {
          "output_type": "stream",
          "text": [
            "\tMi nombre es\n",
            "\t\tjose\n"
          ],
          "name": "stdout"
        }
      ]
    },
    {
      "cell_type": "markdown",
      "metadata": {
        "id": "QMCNLTfmD7ej"
      },
      "source": [
        "#Ayuda de tipo de datos en Python\n",
        "\n",
        "dir()\n",
        "\n",
        "help()"
      ]
    },
    {
      "cell_type": "code",
      "metadata": {
        "id": "Aj4D0GeREMxg"
      },
      "source": [
        "#str, int , float, bool... list, dict, set\n",
        "dir(str)"
      ],
      "execution_count": null,
      "outputs": []
    },
    {
      "cell_type": "code",
      "metadata": {
        "id": "YLR2SR3LFRao",
        "outputId": "a503720d-1bb8-4c82-a0bb-8bb0eee347a8",
        "colab": {
          "base_uri": "https://localhost:8080/",
          "height": 306
        }
      },
      "source": [
        "print(nombre.capitalize())\n",
        "print(nombre.upper())\n",
        "print(frase.upper())\n",
        "print(nombre.title())\n",
        "print(frase.title())\n"
      ],
      "execution_count": 32,
      "outputs": [
        {
          "output_type": "stream",
          "text": [
            "Jose\n",
            "JOSE\n",
            "\n",
            "ESTA ES \n",
            "UNA FRASE\n",
            "DE MULTIPLES LINEAS\n",
            "Y TAMBIEN \n",
            "ES UN TIPO DE DATO\n",
            "\n",
            "Jose\n",
            "\n",
            "Esta Es \n",
            "Una Frase\n",
            "De Multiples Lineas\n",
            "Y Tambien \n",
            "Es Un Tipo De Dato\n",
            "\n"
          ],
          "name": "stdout"
        }
      ]
    },
    {
      "cell_type": "code",
      "metadata": {
        "id": "hjNRA7taGCAc",
        "outputId": "e5bf7455-fe84-4533-adc8-aeed0a63f5b9",
        "colab": {
          "base_uri": "https://localhost:8080/",
          "height": 221
        }
      },
      "source": [
        "help(print)"
      ],
      "execution_count": 34,
      "outputs": [
        {
          "output_type": "stream",
          "text": [
            "Help on built-in function print in module builtins:\n",
            "\n",
            "print(...)\n",
            "    print(value, ..., sep=' ', end='\\n', file=sys.stdout, flush=False)\n",
            "    \n",
            "    Prints the values to a stream, or to sys.stdout by default.\n",
            "    Optional keyword arguments:\n",
            "    file:  a file-like object (stream); defaults to the current sys.stdout.\n",
            "    sep:   string inserted between values, default a space.\n",
            "    end:   string appended after the last value, default a newline.\n",
            "    flush: whether to forcibly flush the stream.\n",
            "\n"
          ],
          "name": "stdout"
        }
      ]
    },
    {
      "cell_type": "markdown",
      "metadata": {
        "id": "b1PU_besGqLg"
      },
      "source": [
        "#Clase String\n",
        "Es manejada como un arreglo (c o java) o lista aqui en python\n",
        "\n",
        "telefono = \"Huawei mate 30 pro\"\n",
        "\n",
        "print(telefono[0])"
      ]
    },
    {
      "cell_type": "code",
      "metadata": {
        "id": "3DQvruOVHxwf",
        "outputId": "a0850c07-47ba-43c0-cd78-3692987a15e8",
        "colab": {
          "base_uri": "https://localhost:8080/",
          "height": 34
        }
      },
      "source": [
        "telefono = \"Huawei mate 30 pro\"\n",
        "print(telefono[0])"
      ],
      "execution_count": 41,
      "outputs": [
        {
          "output_type": "stream",
          "text": [
            "H\n"
          ],
          "name": "stdout"
        }
      ]
    },
    {
      "cell_type": "markdown",
      "metadata": {
        "id": "-BirZQaoILK6"
      },
      "source": [
        "#Slicing (Rebanado)\n",
        "[inicio:stop:incremento]"
      ]
    },
    {
      "cell_type": "markdown",
      "metadata": {
        "id": "aqHJaJEgIckS"
      },
      "source": [
        ""
      ]
    },
    {
      "cell_type": "code",
      "metadata": {
        "id": "j_FYD-3OIgo9",
        "outputId": "60558aec-7cf6-4b82-81fc-1261bdc25b8f",
        "colab": {
          "base_uri": "https://localhost:8080/",
          "height": 153
        }
      },
      "source": [
        "print(telefono[7:11:1])\n",
        "#El inicio y el incremento son opcionales\n",
        "print(telefono[0:11:1])\n",
        "#usando \n",
        "print(telefono[0:11:1].upper())\n",
        "print(telefono[0:15:1].upper())\n",
        "#Incremento negativo (alreves xd)\n",
        "print(telefono[::-1].upper())\n",
        "#Diferente inicio\n",
        "print(telefono[:13:-1])\n",
        "#Declarando inicios\n",
        "ini=-3\n",
        "inc=-1\n",
        "print(telefono[ini::inc])\n",
        "ini2=-3\n",
        "inc2=1\n",
        "print(telefono[ini2::inc2])\n",
        "\n"
      ],
      "execution_count": 58,
      "outputs": [
        {
          "output_type": "stream",
          "text": [
            "mate\n",
            "Huawei mate\n",
            "HUAWEI MATE\n",
            "HUAWEI MATE 30 \n",
            "ORP 03 ETAM IEWAUH\n",
            "orp \n",
            "p 03 etam iewauH\n",
            "pro\n"
          ],
          "name": "stdout"
        }
      ]
    },
    {
      "cell_type": "markdown",
      "metadata": {
        "id": "yFbwSUuCNPqx"
      },
      "source": [
        "#Metodos de String(str)\n"
      ]
    },
    {
      "cell_type": "code",
      "metadata": {
        "id": "znDpUlxFNYVK",
        "outputId": "0f089b2d-0946-4ff1-9198-c1dc5b5e1830",
        "colab": {
          "base_uri": "https://localhost:8080/",
          "height": 340
        }
      },
      "source": [
        "facultad=\"facultad de estudios superiores aragon\"\n",
        "saludo=\"\"\"    \n",
        "     hola\n",
        "amigos\n",
        "\"\"\"\n",
        "print(facultad.upper())\n",
        "print(facultad.count(\" \"))\n",
        "print(facultad.count(\"f\"))\n",
        "print(facultad.count(\"j\"))\n",
        "print(facultad.format())\n",
        "print(facultad.title())\n",
        "print(facultad.find(\"s\"))\n",
        "#Quita espacios en blanco y saltos de linea \n",
        "print(facultad.strip())\n",
        "print(saludo.strip())\n",
        "#Longitud del string\n",
        "tamaño=len(facultad)\n",
        "print(len(facultad))\n",
        "print(f\"tamaño de la cadena es {tamaño} caracteres\")\n",
        "#Corta caracteres seleccionados\n",
        "print(facultad)\n",
        "print(facultad.split(\"u\"))\n",
        "print(facultad.split(\" \"))\n",
        "print(facultad.strip().split(\" \"))\n",
        "\n",
        "#Copiar cadeanas\n",
        "otra_cadena = facultad\n",
        "print(otra_cadena)\n",
        "otra_cadena=\"Fes Aragon\"\n",
        "print(facultad)\n",
        "print(otra_cadena)\n",
        "\n",
        "#copiar listas\n",
        "colores=[verde,rosa]"
      ],
      "execution_count": 75,
      "outputs": [
        {
          "output_type": "stream",
          "text": [
            "FACULTAD DE ESTUDIOS SUPERIORES ARAGON\n",
            "4\n",
            "1\n",
            "0\n",
            "facultad de estudios superiores aragon\n",
            "Facultad De Estudios Superiores Aragon\n",
            "13\n",
            "facultad de estudios superiores aragon\n",
            "hola\n",
            "amigos\n",
            "38\n",
            "tamaño de la cadena es 38 caracteres\n",
            "facultad de estudios superiores aragon\n",
            "['fac', 'ltad de est', 'dios s', 'periores aragon']\n",
            "['facultad', 'de', 'estudios', 'superiores', 'aragon']\n",
            "['facultad', 'de', 'estudios', 'superiores', 'aragon']\n",
            "facultad de estudios superiores aragon\n",
            "facultad de estudios superiores aragon\n",
            "Fes Aragon\n"
          ],
          "name": "stdout"
        }
      ]
    }
  ]
}